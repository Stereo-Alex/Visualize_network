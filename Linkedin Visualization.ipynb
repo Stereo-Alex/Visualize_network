{
 "cells": [
  {
   "cell_type": "code",
   "execution_count": 57,
   "id": "hybrid-morocco",
   "metadata": {
    "ExecuteTime": {
     "end_time": "2021-03-16T09:59:21.356400Z",
     "start_time": "2021-03-16T09:59:21.353492Z"
    }
   },
   "outputs": [],
   "source": [
    "import pandas as pd\n",
    "import plotly.express as px\n",
    "import plotly.graph_objects as go"
   ]
  },
  {
   "cell_type": "code",
   "execution_count": 58,
   "id": "accomplished-charity",
   "metadata": {
    "ExecuteTime": {
     "end_time": "2021-03-16T09:59:21.641555Z",
     "start_time": "2021-03-16T09:59:21.628076Z"
    }
   },
   "outputs": [],
   "source": [
    "df = pd.read_csv(\"Connections.csv\", sep=',', skiprows=2)"
   ]
  },
  {
   "cell_type": "code",
   "execution_count": 59,
   "id": "surprising-understanding",
   "metadata": {
    "ExecuteTime": {
     "end_time": "2021-03-16T09:59:21.905027Z",
     "start_time": "2021-03-16T09:59:21.899654Z"
    }
   },
   "outputs": [],
   "source": [
    "df.drop(columns='Email Address',inplace=True)\n"
   ]
  },
  {
   "cell_type": "code",
   "execution_count": 60,
   "id": "passing-framing",
   "metadata": {
    "ExecuteTime": {
     "end_time": "2021-03-16T09:59:22.510604Z",
     "start_time": "2021-03-16T09:59:22.506251Z"
    }
   },
   "outputs": [],
   "source": [
    "df=df.dropna()\n"
   ]
  },
  {
   "cell_type": "code",
   "execution_count": 61,
   "id": "democratic-scroll",
   "metadata": {
    "ExecuteTime": {
     "end_time": "2021-03-16T09:59:23.485489Z",
     "start_time": "2021-03-16T09:59:23.482145Z"
    }
   },
   "outputs": [],
   "source": [
    "df['My Network']= 'My Network'"
   ]
  },
  {
   "cell_type": "code",
   "execution_count": 62,
   "id": "graphic-ticket",
   "metadata": {
    "ExecuteTime": {
     "end_time": "2021-03-16T09:59:30.834950Z",
     "start_time": "2021-03-16T09:59:30.767933Z"
    }
   },
   "outputs": [],
   "source": [
    "df = df[df.groupby('Position').Position.transform(len) > 1]"
   ]
  },
  {
   "cell_type": "code",
   "execution_count": 63,
   "id": "controlled-measure",
   "metadata": {
    "ExecuteTime": {
     "end_time": "2021-03-16T09:59:31.625727Z",
     "start_time": "2021-03-16T09:59:31.613249Z"
    }
   },
   "outputs": [
    {
     "data": {
      "text/html": [
       "<div>\n",
       "<style scoped>\n",
       "    .dataframe tbody tr th:only-of-type {\n",
       "        vertical-align: middle;\n",
       "    }\n",
       "\n",
       "    .dataframe tbody tr th {\n",
       "        vertical-align: top;\n",
       "    }\n",
       "\n",
       "    .dataframe thead th {\n",
       "        text-align: right;\n",
       "    }\n",
       "</style>\n",
       "<table border=\"1\" class=\"dataframe\">\n",
       "  <thead>\n",
       "    <tr style=\"text-align: right;\">\n",
       "      <th></th>\n",
       "      <th>First Name</th>\n",
       "      <th>Last Name</th>\n",
       "      <th>Company</th>\n",
       "      <th>Position</th>\n",
       "      <th>Connected On</th>\n",
       "      <th>My Network</th>\n",
       "    </tr>\n",
       "  </thead>\n",
       "  <tbody>\n",
       "    <tr>\n",
       "      <th>1</th>\n",
       "      <td>Mario</td>\n",
       "      <td>Espada</td>\n",
       "      <td>TangramBPM</td>\n",
       "      <td>Junior Developer</td>\n",
       "      <td>16 Mar 2021</td>\n",
       "      <td>My Network</td>\n",
       "    </tr>\n",
       "    <tr>\n",
       "      <th>3</th>\n",
       "      <td>Harry</td>\n",
       "      <td>Felton</td>\n",
       "      <td>Conexus</td>\n",
       "      <td>Associate Consultant</td>\n",
       "      <td>16 Mar 2021</td>\n",
       "      <td>My Network</td>\n",
       "    </tr>\n",
       "    <tr>\n",
       "      <th>7</th>\n",
       "      <td>Javier</td>\n",
       "      <td>Hita Vallet-Barceló</td>\n",
       "      <td>Glovo</td>\n",
       "      <td>Data Analyst</td>\n",
       "      <td>16 Mar 2021</td>\n",
       "      <td>My Network</td>\n",
       "    </tr>\n",
       "    <tr>\n",
       "      <th>8</th>\n",
       "      <td>Alex</td>\n",
       "      <td>Bretones Hernández</td>\n",
       "      <td>Quipu</td>\n",
       "      <td>Frontend Developer</td>\n",
       "      <td>16 Mar 2021</td>\n",
       "      <td>My Network</td>\n",
       "    </tr>\n",
       "    <tr>\n",
       "      <th>12</th>\n",
       "      <td>Alejandro</td>\n",
       "      <td>Mérida Maroto</td>\n",
       "      <td>Antai Venture Builder</td>\n",
       "      <td>Data analyst</td>\n",
       "      <td>16 Mar 2021</td>\n",
       "      <td>My Network</td>\n",
       "    </tr>\n",
       "    <tr>\n",
       "      <th>...</th>\n",
       "      <td>...</td>\n",
       "      <td>...</td>\n",
       "      <td>...</td>\n",
       "      <td>...</td>\n",
       "      <td>...</td>\n",
       "      <td>...</td>\n",
       "    </tr>\n",
       "    <tr>\n",
       "      <th>389</th>\n",
       "      <td>Luis</td>\n",
       "      <td>Díaz Boatas</td>\n",
       "      <td>PwC España</td>\n",
       "      <td>Audit Associate</td>\n",
       "      <td>12 Jan 2021</td>\n",
       "      <td>My Network</td>\n",
       "    </tr>\n",
       "    <tr>\n",
       "      <th>393</th>\n",
       "      <td>Gonzalo</td>\n",
       "      <td>Aineto Goñi</td>\n",
       "      <td>Cuidkers</td>\n",
       "      <td>Socio inversor</td>\n",
       "      <td>12 Jan 2021</td>\n",
       "      <td>My Network</td>\n",
       "    </tr>\n",
       "    <tr>\n",
       "      <th>398</th>\n",
       "      <td>Jorge</td>\n",
       "      <td>Pellegrini</td>\n",
       "      <td>AFP Audit Financial Partners</td>\n",
       "      <td>Business Analyst</td>\n",
       "      <td>09 Jan 2021</td>\n",
       "      <td>My Network</td>\n",
       "    </tr>\n",
       "    <tr>\n",
       "      <th>403</th>\n",
       "      <td>Iñigo</td>\n",
       "      <td>Garay Otero</td>\n",
       "      <td>KPMG</td>\n",
       "      <td>Intern</td>\n",
       "      <td>08 Jan 2021</td>\n",
       "      <td>My Network</td>\n",
       "    </tr>\n",
       "    <tr>\n",
       "      <th>404</th>\n",
       "      <td>Nuria</td>\n",
       "      <td>Rius Camps</td>\n",
       "      <td>Freelance</td>\n",
       "      <td>Data Analyst</td>\n",
       "      <td>08 Jan 2021</td>\n",
       "      <td>My Network</td>\n",
       "    </tr>\n",
       "  </tbody>\n",
       "</table>\n",
       "<p>79 rows × 6 columns</p>\n",
       "</div>"
      ],
      "text/plain": [
       "    First Name            Last Name                       Company  \\\n",
       "1        Mario               Espada                    TangramBPM   \n",
       "3        Harry               Felton                      Conexus    \n",
       "7       Javier  Hita Vallet-Barceló                         Glovo   \n",
       "8         Alex   Bretones Hernández                         Quipu   \n",
       "12   Alejandro        Mérida Maroto         Antai Venture Builder   \n",
       "..         ...                  ...                           ...   \n",
       "389       Luis          Díaz Boatas                    PwC España   \n",
       "393    Gonzalo          Aineto Goñi                      Cuidkers   \n",
       "398      Jorge           Pellegrini  AFP Audit Financial Partners   \n",
       "403      Iñigo          Garay Otero                          KPMG   \n",
       "404      Nuria           Rius Camps                     Freelance   \n",
       "\n",
       "                 Position Connected On  My Network  \n",
       "1        Junior Developer  16 Mar 2021  My Network  \n",
       "3    Associate Consultant  16 Mar 2021  My Network  \n",
       "7            Data Analyst  16 Mar 2021  My Network  \n",
       "8      Frontend Developer  16 Mar 2021  My Network  \n",
       "12           Data analyst  16 Mar 2021  My Network  \n",
       "..                    ...          ...         ...  \n",
       "389       Audit Associate  12 Jan 2021  My Network  \n",
       "393        Socio inversor  12 Jan 2021  My Network  \n",
       "398      Business Analyst  09 Jan 2021  My Network  \n",
       "403                Intern  08 Jan 2021  My Network  \n",
       "404          Data Analyst  08 Jan 2021  My Network  \n",
       "\n",
       "[79 rows x 6 columns]"
      ]
     },
     "execution_count": 63,
     "metadata": {},
     "output_type": "execute_result"
    }
   ],
   "source": [
    "df "
   ]
  },
  {
   "cell_type": "code",
   "execution_count": 56,
   "id": "signed-valve",
   "metadata": {
    "ExecuteTime": {
     "end_time": "2021-03-16T09:58:12.548168Z",
     "start_time": "2021-03-16T09:58:12.343362Z"
    },
    "scrolled": true
   },
   "outputs": [
    {
     "data": {
      "application/vnd.plotly.v1+json": {
       "config": {
        "plotlyServerURL": "https://plotly.com"
       },
       "data": [
        {
         "branchvalues": "total",
         "domain": {
          "x": [
           0,
           1
          ],
          "y": [
           0,
           1
          ]
         },
         "hovertemplate": "labels=%{label}<br>count=%{value}<br>parent=%{parent}<br>id=%{id}<extra></extra>",
         "ids": [
          "My Network/Ironhack/9 week English Bootcamp UX/UI Design - Learning by doing (student) - Remote",
          "My Network/Ironhack/Admissions Associate",
          "My Network/Ironhack/Admissions Team Manager · BCN LIS PAR SAO",
          "My Network/Deloitte/Analyst | Financial Advisory - Real Estate",
          "My Network/Amazon/Area Operations Manager",
          "My Network/Blackrock College/Assistant Principal",
          "My Network/PwC/Assurance Associate ",
          "My Network/PwC España/Audit Associate",
          "My Network/Deloitte/Audit Junior",
          "My Network/PwC España/Audit Junior",
          "My Network/Deloitte/Audit assistant",
          "My Network/PwC España/Auditor Junior",
          "My Network/EY/Auditor Junior en EY",
          "My Network/Banco Sabadell/Beca Control de Gestion y Riesgos",
          "My Network/Blackrock College/Boarding School Supervisor",
          "My Network/Real Nation/Brand Ambassador",
          "My Network/haddock/Business Development Manager",
          "My Network/Real Nation/Call Center Representative",
          "My Network/Ironhack/Career Coach",
          "My Network/Ironhack/Co-Founder",
          "My Network/Universitat de Barcelona/Communication Manager",
          "My Network/Accenture/Content Review",
          "My Network/Amazon/Data Analyst",
          "My Network/Banco Sabadell/Data Analyst",
          "My Network/Freelance/Data Analyst",
          "My Network/Glovo/Data Analyst",
          "My Network/Cabify/Data Analyst (Rider Growth) - Data Analytics ",
          "My Network/MANGO/Data Analyst - CRM",
          "My Network/Freelance/Data Analyst Jr.",
          "My Network/Ironhack/Data Analytics Bootcamp",
          "My Network/Ironhack/Data Analytics Instructor",
          "My Network/Ironhack/Data Analytics Teacher Assistant",
          "My Network/Universitat de Barcelona/Data Science training",
          "My Network/Self-Employed/Data Scientist",
          "My Network/Banco Sabadell/Data Scientist Junior at the Cognitive Solutions Department",
          "My Network/KPMG/Deal Advisory - Transaction Services Associate",
          "My Network/MANGO/Digital Product Designer",
          "My Network/EY/FS Consulting Finance Intern",
          "My Network/Cabify/Finance & Fraud Data Analyst",
          "My Network/EY/Financial Services Audit Associate",
          "My Network/Freelance/Freelance Front End Developer (Available for Contracts)",
          "My Network/Freelancer/Freelance Web Developer",
          "My Network/Ironhack/Fullstack Web Developer",
          "My Network/Ironhack/General Manager, Madrid",
          "My Network/CaixaBank/Gestor comercial",
          "My Network/Ironhack/Global Head of Operations & General Manager Barcelona",
          "My Network/Ironhack/Global Program Manager",
          "My Network/Ironhack/Growth Manager",
          "My Network/Ironhack/HR | Office Manager",
          "My Network/Ironhack/Instructor Sourcing Specialist",
          "My Network/KPMG/Intern",
          "My Network/UBS/Investment Banking Analyst",
          "My Network/Deloitte España/Junior BPO",
          "My Network/KPMG/Junior Consultant",
          "My Network/Deloitte España/Junior Deloitte",
          "My Network/Deloitte/Junior en BPS",
          "My Network/Ironhack/Lead Instructor",
          "My Network/Ironhack/Lead Teacher",
          "My Network/Ironhack/Lead Teacher - Web Development",
          "My Network/Self-Employed/ML book author",
          "My Network/Merkle EMEA/Marketing Campaign Consultant",
          "My Network/UBS/Off-Cycle Intern",
          "My Network/MANGO/Online Product Management Intern",
          "My Network/HP/Operations ME Product Engineer",
          "My Network/Blackrock College/Principal",
          "My Network/Universitat de Barcelona/Profesora asociada",
          "My Network/Ironhack/Program Manager",
          "My Network/EY/Project Manager - Data and Analytics",
          "My Network/Freelance/Research, Design, Strategy and Innovation",
          "My Network/PwC/Risk Assurance Associate",
          "My Network/Freelancer/SEO Executive",
          "My Network/Glovo/Senior Tech Sourcer",
          "My Network/Merkle EMEA/Software QA Automation",
          "My Network/Accenture/Strategy & Consulting Analyst ",
          "My Network/Ironhack/Student Web Developer",
          "My Network/HP/Supply Chain Project Manager",
          "My Network/PepsiCo/Supply Planner",
          "My Network/Ironhack/TA",
          "My Network/Accenture/Talent Acquisition Expert",
          "My Network/Ironhack/Teacher Assistant",
          "My Network/Blackrock College/Team Coach",
          "My Network/Deloitte España/Team Leader",
          "My Network/Deloitte/Team leader",
          "My Network/Glovo/Tech Talent Coordinator + Sourcer",
          "My Network/PepsiCo/Trade Marketing Associate Coordinator",
          "My Network/PwC España/Transfer pricing consultant",
          "My Network/Blackrock College/U17 House Rugby Head Coach ",
          "My Network/Freelance/UI/UX Designer",
          "My Network/Accenture/UX | UI Designer",
          "My Network/Ironhack/UX/UI Design Bootcamp",
          "My Network/Freelance/UX/UI Designer",
          "My Network/haddock/UX/UI Designer",
          "My Network/Freelance/UX/UI Designer – Available for Contracts",
          "My Network/Freelancer/User Experience Designer, Product Designer",
          "My Network/Accenture",
          "My Network/Amazon",
          "My Network/Banco Sabadell",
          "My Network/Blackrock College",
          "My Network/Cabify",
          "My Network/CaixaBank",
          "My Network/Deloitte",
          "My Network/Deloitte España",
          "My Network/EY",
          "My Network/Freelance",
          "My Network/Freelancer",
          "My Network/Glovo",
          "My Network/HP",
          "My Network/Ironhack",
          "My Network/KPMG",
          "My Network/MANGO",
          "My Network/Merkle EMEA",
          "My Network/PepsiCo",
          "My Network/PwC",
          "My Network/PwC España",
          "My Network/Real Nation",
          "My Network/Self-Employed",
          "My Network/UBS",
          "My Network/Universitat de Barcelona",
          "My Network/haddock",
          "My Network"
         ],
         "labels": [
          "9 week English Bootcamp UX/UI Design - Learning by doing (student) - Remote",
          "Admissions Associate",
          "Admissions Team Manager · BCN LIS PAR SAO",
          "Analyst | Financial Advisory - Real Estate",
          "Area Operations Manager",
          "Assistant Principal",
          "Assurance Associate ",
          "Audit Associate",
          "Audit Junior",
          "Audit Junior",
          "Audit assistant",
          "Auditor Junior",
          "Auditor Junior en EY",
          "Beca Control de Gestion y Riesgos",
          "Boarding School Supervisor",
          "Brand Ambassador",
          "Business Development Manager",
          "Call Center Representative",
          "Career Coach",
          "Co-Founder",
          "Communication Manager",
          "Content Review",
          "Data Analyst",
          "Data Analyst",
          "Data Analyst",
          "Data Analyst",
          "Data Analyst (Rider Growth) - Data Analytics ",
          "Data Analyst - CRM",
          "Data Analyst Jr.",
          "Data Analytics Bootcamp",
          "Data Analytics Instructor",
          "Data Analytics Teacher Assistant",
          "Data Science training",
          "Data Scientist",
          "Data Scientist Junior at the Cognitive Solutions Department",
          "Deal Advisory - Transaction Services Associate",
          "Digital Product Designer",
          "FS Consulting Finance Intern",
          "Finance & Fraud Data Analyst",
          "Financial Services Audit Associate",
          "Freelance Front End Developer (Available for Contracts)",
          "Freelance Web Developer",
          "Fullstack Web Developer",
          "General Manager, Madrid",
          "Gestor comercial",
          "Global Head of Operations & General Manager Barcelona",
          "Global Program Manager",
          "Growth Manager",
          "HR | Office Manager",
          "Instructor Sourcing Specialist",
          "Intern",
          "Investment Banking Analyst",
          "Junior BPO",
          "Junior Consultant",
          "Junior Deloitte",
          "Junior en BPS",
          "Lead Instructor",
          "Lead Teacher",
          "Lead Teacher - Web Development",
          "ML book author",
          "Marketing Campaign Consultant",
          "Off-Cycle Intern",
          "Online Product Management Intern",
          "Operations ME Product Engineer",
          "Principal",
          "Profesora asociada",
          "Program Manager",
          "Project Manager - Data and Analytics",
          "Research, Design, Strategy and Innovation",
          "Risk Assurance Associate",
          "SEO Executive",
          "Senior Tech Sourcer",
          "Software QA Automation",
          "Strategy & Consulting Analyst ",
          "Student Web Developer",
          "Supply Chain Project Manager",
          "Supply Planner",
          "TA",
          "Talent Acquisition Expert",
          "Teacher Assistant",
          "Team Coach",
          "Team Leader",
          "Team leader",
          "Tech Talent Coordinator + Sourcer",
          "Trade Marketing Associate Coordinator",
          "Transfer pricing consultant",
          "U17 House Rugby Head Coach ",
          "UI/UX Designer",
          "UX | UI Designer",
          "UX/UI Design Bootcamp",
          "UX/UI Designer",
          "UX/UI Designer",
          "UX/UI Designer – Available for Contracts",
          "User Experience Designer, Product Designer",
          "Accenture",
          "Amazon",
          "Banco Sabadell",
          "Blackrock College",
          "Cabify",
          "CaixaBank",
          "Deloitte",
          "Deloitte España",
          "EY",
          "Freelance",
          "Freelancer",
          "Glovo",
          "HP",
          "Ironhack",
          "KPMG",
          "MANGO",
          "Merkle EMEA",
          "PepsiCo",
          "PwC",
          "PwC España",
          "Real Nation",
          "Self-Employed",
          "UBS",
          "Universitat de Barcelona",
          "haddock",
          "My Network"
         ],
         "name": "",
         "parents": [
          "My Network/Ironhack",
          "My Network/Ironhack",
          "My Network/Ironhack",
          "My Network/Deloitte",
          "My Network/Amazon",
          "My Network/Blackrock College",
          "My Network/PwC",
          "My Network/PwC España",
          "My Network/Deloitte",
          "My Network/PwC España",
          "My Network/Deloitte",
          "My Network/PwC España",
          "My Network/EY",
          "My Network/Banco Sabadell",
          "My Network/Blackrock College",
          "My Network/Real Nation",
          "My Network/haddock",
          "My Network/Real Nation",
          "My Network/Ironhack",
          "My Network/Ironhack",
          "My Network/Universitat de Barcelona",
          "My Network/Accenture",
          "My Network/Amazon",
          "My Network/Banco Sabadell",
          "My Network/Freelance",
          "My Network/Glovo",
          "My Network/Cabify",
          "My Network/MANGO",
          "My Network/Freelance",
          "My Network/Ironhack",
          "My Network/Ironhack",
          "My Network/Ironhack",
          "My Network/Universitat de Barcelona",
          "My Network/Self-Employed",
          "My Network/Banco Sabadell",
          "My Network/KPMG",
          "My Network/MANGO",
          "My Network/EY",
          "My Network/Cabify",
          "My Network/EY",
          "My Network/Freelance",
          "My Network/Freelancer",
          "My Network/Ironhack",
          "My Network/Ironhack",
          "My Network/CaixaBank",
          "My Network/Ironhack",
          "My Network/Ironhack",
          "My Network/Ironhack",
          "My Network/Ironhack",
          "My Network/Ironhack",
          "My Network/KPMG",
          "My Network/UBS",
          "My Network/Deloitte España",
          "My Network/KPMG",
          "My Network/Deloitte España",
          "My Network/Deloitte",
          "My Network/Ironhack",
          "My Network/Ironhack",
          "My Network/Ironhack",
          "My Network/Self-Employed",
          "My Network/Merkle EMEA",
          "My Network/UBS",
          "My Network/MANGO",
          "My Network/HP",
          "My Network/Blackrock College",
          "My Network/Universitat de Barcelona",
          "My Network/Ironhack",
          "My Network/EY",
          "My Network/Freelance",
          "My Network/PwC",
          "My Network/Freelancer",
          "My Network/Glovo",
          "My Network/Merkle EMEA",
          "My Network/Accenture",
          "My Network/Ironhack",
          "My Network/HP",
          "My Network/PepsiCo",
          "My Network/Ironhack",
          "My Network/Accenture",
          "My Network/Ironhack",
          "My Network/Blackrock College",
          "My Network/Deloitte España",
          "My Network/Deloitte",
          "My Network/Glovo",
          "My Network/PepsiCo",
          "My Network/PwC España",
          "My Network/Blackrock College",
          "My Network/Freelance",
          "My Network/Accenture",
          "My Network/Ironhack",
          "My Network/Freelance",
          "My Network/haddock",
          "My Network/Freelance",
          "My Network/Freelancer",
          "My Network",
          "My Network",
          "My Network",
          "My Network",
          "My Network",
          "My Network",
          "My Network",
          "My Network",
          "My Network",
          "My Network",
          "My Network",
          "My Network",
          "My Network",
          "My Network",
          "My Network",
          "My Network",
          "My Network",
          "My Network",
          "My Network",
          "My Network",
          "My Network",
          "My Network",
          "My Network",
          "My Network",
          "My Network",
          ""
         ],
         "type": "treemap",
         "values": [
          1,
          1,
          1,
          1,
          1,
          1,
          1,
          2,
          2,
          2,
          1,
          1,
          1,
          1,
          1,
          1,
          1,
          1,
          1,
          1,
          1,
          1,
          1,
          1,
          1,
          1,
          1,
          1,
          1,
          1,
          1,
          1,
          1,
          1,
          1,
          1,
          1,
          1,
          1,
          1,
          1,
          1,
          1,
          1,
          2,
          1,
          1,
          1,
          1,
          1,
          1,
          1,
          1,
          1,
          1,
          1,
          1,
          1,
          1,
          1,
          1,
          1,
          1,
          1,
          1,
          1,
          1,
          1,
          1,
          1,
          1,
          1,
          1,
          1,
          1,
          1,
          1,
          1,
          1,
          1,
          1,
          1,
          1,
          1,
          1,
          1,
          1,
          1,
          1,
          1,
          1,
          1,
          1,
          1,
          4,
          2,
          3,
          5,
          2,
          2,
          6,
          3,
          4,
          7,
          3,
          3,
          2,
          23,
          3,
          3,
          2,
          2,
          2,
          6,
          2,
          2,
          2,
          3,
          2,
          98
         ]
        }
       ],
       "layout": {
        "height": 1000,
        "legend": {
         "tracegroupgap": 0
        },
        "margin": {
         "t": 60
        },
        "template": {
         "data": {
          "bar": [
           {
            "error_x": {
             "color": "#2a3f5f"
            },
            "error_y": {
             "color": "#2a3f5f"
            },
            "marker": {
             "line": {
              "color": "#E5ECF6",
              "width": 0.5
             }
            },
            "type": "bar"
           }
          ],
          "barpolar": [
           {
            "marker": {
             "line": {
              "color": "#E5ECF6",
              "width": 0.5
             }
            },
            "type": "barpolar"
           }
          ],
          "carpet": [
           {
            "aaxis": {
             "endlinecolor": "#2a3f5f",
             "gridcolor": "white",
             "linecolor": "white",
             "minorgridcolor": "white",
             "startlinecolor": "#2a3f5f"
            },
            "baxis": {
             "endlinecolor": "#2a3f5f",
             "gridcolor": "white",
             "linecolor": "white",
             "minorgridcolor": "white",
             "startlinecolor": "#2a3f5f"
            },
            "type": "carpet"
           }
          ],
          "choropleth": [
           {
            "colorbar": {
             "outlinewidth": 0,
             "ticks": ""
            },
            "type": "choropleth"
           }
          ],
          "contour": [
           {
            "colorbar": {
             "outlinewidth": 0,
             "ticks": ""
            },
            "colorscale": [
             [
              0,
              "#0d0887"
             ],
             [
              0.1111111111111111,
              "#46039f"
             ],
             [
              0.2222222222222222,
              "#7201a8"
             ],
             [
              0.3333333333333333,
              "#9c179e"
             ],
             [
              0.4444444444444444,
              "#bd3786"
             ],
             [
              0.5555555555555556,
              "#d8576b"
             ],
             [
              0.6666666666666666,
              "#ed7953"
             ],
             [
              0.7777777777777778,
              "#fb9f3a"
             ],
             [
              0.8888888888888888,
              "#fdca26"
             ],
             [
              1,
              "#f0f921"
             ]
            ],
            "type": "contour"
           }
          ],
          "contourcarpet": [
           {
            "colorbar": {
             "outlinewidth": 0,
             "ticks": ""
            },
            "type": "contourcarpet"
           }
          ],
          "heatmap": [
           {
            "colorbar": {
             "outlinewidth": 0,
             "ticks": ""
            },
            "colorscale": [
             [
              0,
              "#0d0887"
             ],
             [
              0.1111111111111111,
              "#46039f"
             ],
             [
              0.2222222222222222,
              "#7201a8"
             ],
             [
              0.3333333333333333,
              "#9c179e"
             ],
             [
              0.4444444444444444,
              "#bd3786"
             ],
             [
              0.5555555555555556,
              "#d8576b"
             ],
             [
              0.6666666666666666,
              "#ed7953"
             ],
             [
              0.7777777777777778,
              "#fb9f3a"
             ],
             [
              0.8888888888888888,
              "#fdca26"
             ],
             [
              1,
              "#f0f921"
             ]
            ],
            "type": "heatmap"
           }
          ],
          "heatmapgl": [
           {
            "colorbar": {
             "outlinewidth": 0,
             "ticks": ""
            },
            "colorscale": [
             [
              0,
              "#0d0887"
             ],
             [
              0.1111111111111111,
              "#46039f"
             ],
             [
              0.2222222222222222,
              "#7201a8"
             ],
             [
              0.3333333333333333,
              "#9c179e"
             ],
             [
              0.4444444444444444,
              "#bd3786"
             ],
             [
              0.5555555555555556,
              "#d8576b"
             ],
             [
              0.6666666666666666,
              "#ed7953"
             ],
             [
              0.7777777777777778,
              "#fb9f3a"
             ],
             [
              0.8888888888888888,
              "#fdca26"
             ],
             [
              1,
              "#f0f921"
             ]
            ],
            "type": "heatmapgl"
           }
          ],
          "histogram": [
           {
            "marker": {
             "colorbar": {
              "outlinewidth": 0,
              "ticks": ""
             }
            },
            "type": "histogram"
           }
          ],
          "histogram2d": [
           {
            "colorbar": {
             "outlinewidth": 0,
             "ticks": ""
            },
            "colorscale": [
             [
              0,
              "#0d0887"
             ],
             [
              0.1111111111111111,
              "#46039f"
             ],
             [
              0.2222222222222222,
              "#7201a8"
             ],
             [
              0.3333333333333333,
              "#9c179e"
             ],
             [
              0.4444444444444444,
              "#bd3786"
             ],
             [
              0.5555555555555556,
              "#d8576b"
             ],
             [
              0.6666666666666666,
              "#ed7953"
             ],
             [
              0.7777777777777778,
              "#fb9f3a"
             ],
             [
              0.8888888888888888,
              "#fdca26"
             ],
             [
              1,
              "#f0f921"
             ]
            ],
            "type": "histogram2d"
           }
          ],
          "histogram2dcontour": [
           {
            "colorbar": {
             "outlinewidth": 0,
             "ticks": ""
            },
            "colorscale": [
             [
              0,
              "#0d0887"
             ],
             [
              0.1111111111111111,
              "#46039f"
             ],
             [
              0.2222222222222222,
              "#7201a8"
             ],
             [
              0.3333333333333333,
              "#9c179e"
             ],
             [
              0.4444444444444444,
              "#bd3786"
             ],
             [
              0.5555555555555556,
              "#d8576b"
             ],
             [
              0.6666666666666666,
              "#ed7953"
             ],
             [
              0.7777777777777778,
              "#fb9f3a"
             ],
             [
              0.8888888888888888,
              "#fdca26"
             ],
             [
              1,
              "#f0f921"
             ]
            ],
            "type": "histogram2dcontour"
           }
          ],
          "mesh3d": [
           {
            "colorbar": {
             "outlinewidth": 0,
             "ticks": ""
            },
            "type": "mesh3d"
           }
          ],
          "parcoords": [
           {
            "line": {
             "colorbar": {
              "outlinewidth": 0,
              "ticks": ""
             }
            },
            "type": "parcoords"
           }
          ],
          "pie": [
           {
            "automargin": true,
            "type": "pie"
           }
          ],
          "scatter": [
           {
            "marker": {
             "colorbar": {
              "outlinewidth": 0,
              "ticks": ""
             }
            },
            "type": "scatter"
           }
          ],
          "scatter3d": [
           {
            "line": {
             "colorbar": {
              "outlinewidth": 0,
              "ticks": ""
             }
            },
            "marker": {
             "colorbar": {
              "outlinewidth": 0,
              "ticks": ""
             }
            },
            "type": "scatter3d"
           }
          ],
          "scattercarpet": [
           {
            "marker": {
             "colorbar": {
              "outlinewidth": 0,
              "ticks": ""
             }
            },
            "type": "scattercarpet"
           }
          ],
          "scattergeo": [
           {
            "marker": {
             "colorbar": {
              "outlinewidth": 0,
              "ticks": ""
             }
            },
            "type": "scattergeo"
           }
          ],
          "scattergl": [
           {
            "marker": {
             "colorbar": {
              "outlinewidth": 0,
              "ticks": ""
             }
            },
            "type": "scattergl"
           }
          ],
          "scattermapbox": [
           {
            "marker": {
             "colorbar": {
              "outlinewidth": 0,
              "ticks": ""
             }
            },
            "type": "scattermapbox"
           }
          ],
          "scatterpolar": [
           {
            "marker": {
             "colorbar": {
              "outlinewidth": 0,
              "ticks": ""
             }
            },
            "type": "scatterpolar"
           }
          ],
          "scatterpolargl": [
           {
            "marker": {
             "colorbar": {
              "outlinewidth": 0,
              "ticks": ""
             }
            },
            "type": "scatterpolargl"
           }
          ],
          "scatterternary": [
           {
            "marker": {
             "colorbar": {
              "outlinewidth": 0,
              "ticks": ""
             }
            },
            "type": "scatterternary"
           }
          ],
          "surface": [
           {
            "colorbar": {
             "outlinewidth": 0,
             "ticks": ""
            },
            "colorscale": [
             [
              0,
              "#0d0887"
             ],
             [
              0.1111111111111111,
              "#46039f"
             ],
             [
              0.2222222222222222,
              "#7201a8"
             ],
             [
              0.3333333333333333,
              "#9c179e"
             ],
             [
              0.4444444444444444,
              "#bd3786"
             ],
             [
              0.5555555555555556,
              "#d8576b"
             ],
             [
              0.6666666666666666,
              "#ed7953"
             ],
             [
              0.7777777777777778,
              "#fb9f3a"
             ],
             [
              0.8888888888888888,
              "#fdca26"
             ],
             [
              1,
              "#f0f921"
             ]
            ],
            "type": "surface"
           }
          ],
          "table": [
           {
            "cells": {
             "fill": {
              "color": "#EBF0F8"
             },
             "line": {
              "color": "white"
             }
            },
            "header": {
             "fill": {
              "color": "#C8D4E3"
             },
             "line": {
              "color": "white"
             }
            },
            "type": "table"
           }
          ]
         },
         "layout": {
          "annotationdefaults": {
           "arrowcolor": "#2a3f5f",
           "arrowhead": 0,
           "arrowwidth": 1
          },
          "autotypenumbers": "strict",
          "coloraxis": {
           "colorbar": {
            "outlinewidth": 0,
            "ticks": ""
           }
          },
          "colorscale": {
           "diverging": [
            [
             0,
             "#8e0152"
            ],
            [
             0.1,
             "#c51b7d"
            ],
            [
             0.2,
             "#de77ae"
            ],
            [
             0.3,
             "#f1b6da"
            ],
            [
             0.4,
             "#fde0ef"
            ],
            [
             0.5,
             "#f7f7f7"
            ],
            [
             0.6,
             "#e6f5d0"
            ],
            [
             0.7,
             "#b8e186"
            ],
            [
             0.8,
             "#7fbc41"
            ],
            [
             0.9,
             "#4d9221"
            ],
            [
             1,
             "#276419"
            ]
           ],
           "sequential": [
            [
             0,
             "#0d0887"
            ],
            [
             0.1111111111111111,
             "#46039f"
            ],
            [
             0.2222222222222222,
             "#7201a8"
            ],
            [
             0.3333333333333333,
             "#9c179e"
            ],
            [
             0.4444444444444444,
             "#bd3786"
            ],
            [
             0.5555555555555556,
             "#d8576b"
            ],
            [
             0.6666666666666666,
             "#ed7953"
            ],
            [
             0.7777777777777778,
             "#fb9f3a"
            ],
            [
             0.8888888888888888,
             "#fdca26"
            ],
            [
             1,
             "#f0f921"
            ]
           ],
           "sequentialminus": [
            [
             0,
             "#0d0887"
            ],
            [
             0.1111111111111111,
             "#46039f"
            ],
            [
             0.2222222222222222,
             "#7201a8"
            ],
            [
             0.3333333333333333,
             "#9c179e"
            ],
            [
             0.4444444444444444,
             "#bd3786"
            ],
            [
             0.5555555555555556,
             "#d8576b"
            ],
            [
             0.6666666666666666,
             "#ed7953"
            ],
            [
             0.7777777777777778,
             "#fb9f3a"
            ],
            [
             0.8888888888888888,
             "#fdca26"
            ],
            [
             1,
             "#f0f921"
            ]
           ]
          },
          "colorway": [
           "#636efa",
           "#EF553B",
           "#00cc96",
           "#ab63fa",
           "#FFA15A",
           "#19d3f3",
           "#FF6692",
           "#B6E880",
           "#FF97FF",
           "#FECB52"
          ],
          "font": {
           "color": "#2a3f5f"
          },
          "geo": {
           "bgcolor": "white",
           "lakecolor": "white",
           "landcolor": "#E5ECF6",
           "showlakes": true,
           "showland": true,
           "subunitcolor": "white"
          },
          "hoverlabel": {
           "align": "left"
          },
          "hovermode": "closest",
          "mapbox": {
           "style": "light"
          },
          "paper_bgcolor": "white",
          "plot_bgcolor": "#E5ECF6",
          "polar": {
           "angularaxis": {
            "gridcolor": "white",
            "linecolor": "white",
            "ticks": ""
           },
           "bgcolor": "#E5ECF6",
           "radialaxis": {
            "gridcolor": "white",
            "linecolor": "white",
            "ticks": ""
           }
          },
          "scene": {
           "xaxis": {
            "backgroundcolor": "#E5ECF6",
            "gridcolor": "white",
            "gridwidth": 2,
            "linecolor": "white",
            "showbackground": true,
            "ticks": "",
            "zerolinecolor": "white"
           },
           "yaxis": {
            "backgroundcolor": "#E5ECF6",
            "gridcolor": "white",
            "gridwidth": 2,
            "linecolor": "white",
            "showbackground": true,
            "ticks": "",
            "zerolinecolor": "white"
           },
           "zaxis": {
            "backgroundcolor": "#E5ECF6",
            "gridcolor": "white",
            "gridwidth": 2,
            "linecolor": "white",
            "showbackground": true,
            "ticks": "",
            "zerolinecolor": "white"
           }
          },
          "shapedefaults": {
           "line": {
            "color": "#2a3f5f"
           }
          },
          "ternary": {
           "aaxis": {
            "gridcolor": "white",
            "linecolor": "white",
            "ticks": ""
           },
           "baxis": {
            "gridcolor": "white",
            "linecolor": "white",
            "ticks": ""
           },
           "bgcolor": "#E5ECF6",
           "caxis": {
            "gridcolor": "white",
            "linecolor": "white",
            "ticks": ""
           }
          },
          "title": {
           "x": 0.05
          },
          "xaxis": {
           "automargin": true,
           "gridcolor": "white",
           "linecolor": "white",
           "ticks": "",
           "title": {
            "standoff": 15
           },
           "zerolinecolor": "white",
           "zerolinewidth": 2
          },
          "yaxis": {
           "automargin": true,
           "gridcolor": "white",
           "linecolor": "white",
           "ticks": "",
           "title": {
            "standoff": 15
           },
           "zerolinecolor": "white",
           "zerolinewidth": 2
          }
         }
        },
        "width": 1000
       }
      },
      "text/html": [
       "<div>                            <div id=\"e61fa82a-c8c7-4018-88c6-b513a1b12990\" class=\"plotly-graph-div\" style=\"height:1000px; width:1000px;\"></div>            <script type=\"text/javascript\">                require([\"plotly\"], function(Plotly) {                    window.PLOTLYENV=window.PLOTLYENV || {};                                    if (document.getElementById(\"e61fa82a-c8c7-4018-88c6-b513a1b12990\")) {                    Plotly.newPlot(                        \"e61fa82a-c8c7-4018-88c6-b513a1b12990\",                        [{\"branchvalues\": \"total\", \"domain\": {\"x\": [0.0, 1.0], \"y\": [0.0, 1.0]}, \"hovertemplate\": \"labels=%{label}<br>count=%{value}<br>parent=%{parent}<br>id=%{id}<extra></extra>\", \"ids\": [\"My Network/Ironhack/9 week English Bootcamp UX/UI Design - Learning by doing (student) - Remote\", \"My Network/Ironhack/Admissions Associate\", \"My Network/Ironhack/Admissions Team Manager \\u00b7 BCN LIS PAR SAO\", \"My Network/Deloitte/Analyst | Financial Advisory - Real Estate\", \"My Network/Amazon/Area Operations Manager\", \"My Network/Blackrock College/Assistant Principal\", \"My Network/PwC/Assurance Associate \", \"My Network/PwC Espa\\u00f1a/Audit Associate\", \"My Network/Deloitte/Audit Junior\", \"My Network/PwC Espa\\u00f1a/Audit Junior\", \"My Network/Deloitte/Audit assistant\", \"My Network/PwC Espa\\u00f1a/Auditor Junior\", \"My Network/EY/Auditor Junior en EY\", \"My Network/Banco Sabadell/Beca Control de Gestion y Riesgos\", \"My Network/Blackrock College/Boarding School Supervisor\", \"My Network/Real Nation/Brand Ambassador\", \"My Network/haddock/Business Development Manager\", \"My Network/Real Nation/Call Center Representative\", \"My Network/Ironhack/Career Coach\", \"My Network/Ironhack/Co-Founder\", \"My Network/Universitat de Barcelona/Communication Manager\", \"My Network/Accenture/Content Review\", \"My Network/Amazon/Data Analyst\", \"My Network/Banco Sabadell/Data Analyst\", \"My Network/Freelance/Data Analyst\", \"My Network/Glovo/Data Analyst\", \"My Network/Cabify/Data Analyst (Rider Growth) - Data Analytics \", \"My Network/MANGO/Data Analyst - CRM\", \"My Network/Freelance/Data Analyst Jr.\", \"My Network/Ironhack/Data Analytics Bootcamp\", \"My Network/Ironhack/Data Analytics Instructor\", \"My Network/Ironhack/Data Analytics Teacher Assistant\", \"My Network/Universitat de Barcelona/Data Science training\", \"My Network/Self-Employed/Data Scientist\", \"My Network/Banco Sabadell/Data Scientist Junior at the Cognitive Solutions Department\", \"My Network/KPMG/Deal Advisory - Transaction Services Associate\", \"My Network/MANGO/Digital Product Designer\", \"My Network/EY/FS Consulting Finance Intern\", \"My Network/Cabify/Finance & Fraud Data Analyst\", \"My Network/EY/Financial Services Audit Associate\", \"My Network/Freelance/Freelance Front End Developer (Available for Contracts)\", \"My Network/Freelancer/Freelance Web Developer\", \"My Network/Ironhack/Fullstack Web Developer\", \"My Network/Ironhack/General Manager, Madrid\", \"My Network/CaixaBank/Gestor comercial\", \"My Network/Ironhack/Global Head of Operations & General Manager Barcelona\", \"My Network/Ironhack/Global Program Manager\", \"My Network/Ironhack/Growth Manager\", \"My Network/Ironhack/HR | Office Manager\", \"My Network/Ironhack/Instructor Sourcing Specialist\", \"My Network/KPMG/Intern\", \"My Network/UBS/Investment Banking Analyst\", \"My Network/Deloitte Espa\\u00f1a/Junior BPO\", \"My Network/KPMG/Junior Consultant\", \"My Network/Deloitte Espa\\u00f1a/Junior Deloitte\", \"My Network/Deloitte/Junior en BPS\", \"My Network/Ironhack/Lead Instructor\", \"My Network/Ironhack/Lead Teacher\", \"My Network/Ironhack/Lead Teacher - Web Development\", \"My Network/Self-Employed/ML book author\", \"My Network/Merkle EMEA/Marketing Campaign Consultant\", \"My Network/UBS/Off-Cycle Intern\", \"My Network/MANGO/Online Product Management Intern\", \"My Network/HP/Operations ME Product Engineer\", \"My Network/Blackrock College/Principal\", \"My Network/Universitat de Barcelona/Profesora asociada\", \"My Network/Ironhack/Program Manager\", \"My Network/EY/Project Manager - Data and Analytics\", \"My Network/Freelance/Research, Design, Strategy and Innovation\", \"My Network/PwC/Risk Assurance Associate\", \"My Network/Freelancer/SEO Executive\", \"My Network/Glovo/Senior Tech Sourcer\", \"My Network/Merkle EMEA/Software QA Automation\", \"My Network/Accenture/Strategy & Consulting Analyst \", \"My Network/Ironhack/Student Web Developer\", \"My Network/HP/Supply Chain Project Manager\", \"My Network/PepsiCo/Supply Planner\", \"My Network/Ironhack/TA\", \"My Network/Accenture/Talent Acquisition Expert\", \"My Network/Ironhack/Teacher Assistant\", \"My Network/Blackrock College/Team Coach\", \"My Network/Deloitte Espa\\u00f1a/Team Leader\", \"My Network/Deloitte/Team leader\", \"My Network/Glovo/Tech Talent Coordinator + Sourcer\", \"My Network/PepsiCo/Trade Marketing Associate Coordinator\", \"My Network/PwC Espa\\u00f1a/Transfer pricing consultant\", \"My Network/Blackrock College/U17 House Rugby Head Coach \", \"My Network/Freelance/UI/UX Designer\", \"My Network/Accenture/UX | UI Designer\", \"My Network/Ironhack/UX/UI Design Bootcamp\", \"My Network/Freelance/UX/UI Designer\", \"My Network/haddock/UX/UI Designer\", \"My Network/Freelance/UX/UI Designer \\u2013 Available for Contracts\", \"My Network/Freelancer/User Experience Designer, Product Designer\", \"My Network/Accenture\", \"My Network/Amazon\", \"My Network/Banco Sabadell\", \"My Network/Blackrock College\", \"My Network/Cabify\", \"My Network/CaixaBank\", \"My Network/Deloitte\", \"My Network/Deloitte Espa\\u00f1a\", \"My Network/EY\", \"My Network/Freelance\", \"My Network/Freelancer\", \"My Network/Glovo\", \"My Network/HP\", \"My Network/Ironhack\", \"My Network/KPMG\", \"My Network/MANGO\", \"My Network/Merkle EMEA\", \"My Network/PepsiCo\", \"My Network/PwC\", \"My Network/PwC Espa\\u00f1a\", \"My Network/Real Nation\", \"My Network/Self-Employed\", \"My Network/UBS\", \"My Network/Universitat de Barcelona\", \"My Network/haddock\", \"My Network\"], \"labels\": [\"9 week English Bootcamp UX/UI Design - Learning by doing (student) - Remote\", \"Admissions Associate\", \"Admissions Team Manager \\u00b7 BCN LIS PAR SAO\", \"Analyst | Financial Advisory - Real Estate\", \"Area Operations Manager\", \"Assistant Principal\", \"Assurance Associate \", \"Audit Associate\", \"Audit Junior\", \"Audit Junior\", \"Audit assistant\", \"Auditor Junior\", \"Auditor Junior en EY\", \"Beca Control de Gestion y Riesgos\", \"Boarding School Supervisor\", \"Brand Ambassador\", \"Business Development Manager\", \"Call Center Representative\", \"Career Coach\", \"Co-Founder\", \"Communication Manager\", \"Content Review\", \"Data Analyst\", \"Data Analyst\", \"Data Analyst\", \"Data Analyst\", \"Data Analyst (Rider Growth) - Data Analytics \", \"Data Analyst - CRM\", \"Data Analyst Jr.\", \"Data Analytics Bootcamp\", \"Data Analytics Instructor\", \"Data Analytics Teacher Assistant\", \"Data Science training\", \"Data Scientist\", \"Data Scientist Junior at the Cognitive Solutions Department\", \"Deal Advisory - Transaction Services Associate\", \"Digital Product Designer\", \"FS Consulting Finance Intern\", \"Finance & Fraud Data Analyst\", \"Financial Services Audit Associate\", \"Freelance Front End Developer (Available for Contracts)\", \"Freelance Web Developer\", \"Fullstack Web Developer\", \"General Manager, Madrid\", \"Gestor comercial\", \"Global Head of Operations & General Manager Barcelona\", \"Global Program Manager\", \"Growth Manager\", \"HR | Office Manager\", \"Instructor Sourcing Specialist\", \"Intern\", \"Investment Banking Analyst\", \"Junior BPO\", \"Junior Consultant\", \"Junior Deloitte\", \"Junior en BPS\", \"Lead Instructor\", \"Lead Teacher\", \"Lead Teacher - Web Development\", \"ML book author\", \"Marketing Campaign Consultant\", \"Off-Cycle Intern\", \"Online Product Management Intern\", \"Operations ME Product Engineer\", \"Principal\", \"Profesora asociada\", \"Program Manager\", \"Project Manager - Data and Analytics\", \"Research, Design, Strategy and Innovation\", \"Risk Assurance Associate\", \"SEO Executive\", \"Senior Tech Sourcer\", \"Software QA Automation\", \"Strategy & Consulting Analyst \", \"Student Web Developer\", \"Supply Chain Project Manager\", \"Supply Planner\", \"TA\", \"Talent Acquisition Expert\", \"Teacher Assistant\", \"Team Coach\", \"Team Leader\", \"Team leader\", \"Tech Talent Coordinator + Sourcer\", \"Trade Marketing Associate Coordinator\", \"Transfer pricing consultant\", \"U17 House Rugby Head Coach \", \"UI/UX Designer\", \"UX | UI Designer\", \"UX/UI Design Bootcamp\", \"UX/UI Designer\", \"UX/UI Designer\", \"UX/UI Designer \\u2013 Available for Contracts\", \"User Experience Designer, Product Designer\", \"Accenture\", \"Amazon\", \"Banco Sabadell\", \"Blackrock College\", \"Cabify\", \"CaixaBank\", \"Deloitte\", \"Deloitte Espa\\u00f1a\", \"EY\", \"Freelance\", \"Freelancer\", \"Glovo\", \"HP\", \"Ironhack\", \"KPMG\", \"MANGO\", \"Merkle EMEA\", \"PepsiCo\", \"PwC\", \"PwC Espa\\u00f1a\", \"Real Nation\", \"Self-Employed\", \"UBS\", \"Universitat de Barcelona\", \"haddock\", \"My Network\"], \"name\": \"\", \"parents\": [\"My Network/Ironhack\", \"My Network/Ironhack\", \"My Network/Ironhack\", \"My Network/Deloitte\", \"My Network/Amazon\", \"My Network/Blackrock College\", \"My Network/PwC\", \"My Network/PwC Espa\\u00f1a\", \"My Network/Deloitte\", \"My Network/PwC Espa\\u00f1a\", \"My Network/Deloitte\", \"My Network/PwC Espa\\u00f1a\", \"My Network/EY\", \"My Network/Banco Sabadell\", \"My Network/Blackrock College\", \"My Network/Real Nation\", \"My Network/haddock\", \"My Network/Real Nation\", \"My Network/Ironhack\", \"My Network/Ironhack\", \"My Network/Universitat de Barcelona\", \"My Network/Accenture\", \"My Network/Amazon\", \"My Network/Banco Sabadell\", \"My Network/Freelance\", \"My Network/Glovo\", \"My Network/Cabify\", \"My Network/MANGO\", \"My Network/Freelance\", \"My Network/Ironhack\", \"My Network/Ironhack\", \"My Network/Ironhack\", \"My Network/Universitat de Barcelona\", \"My Network/Self-Employed\", \"My Network/Banco Sabadell\", \"My Network/KPMG\", \"My Network/MANGO\", \"My Network/EY\", \"My Network/Cabify\", \"My Network/EY\", \"My Network/Freelance\", \"My Network/Freelancer\", \"My Network/Ironhack\", \"My Network/Ironhack\", \"My Network/CaixaBank\", \"My Network/Ironhack\", \"My Network/Ironhack\", \"My Network/Ironhack\", \"My Network/Ironhack\", \"My Network/Ironhack\", \"My Network/KPMG\", \"My Network/UBS\", \"My Network/Deloitte Espa\\u00f1a\", \"My Network/KPMG\", \"My Network/Deloitte Espa\\u00f1a\", \"My Network/Deloitte\", \"My Network/Ironhack\", \"My Network/Ironhack\", \"My Network/Ironhack\", \"My Network/Self-Employed\", \"My Network/Merkle EMEA\", \"My Network/UBS\", \"My Network/MANGO\", \"My Network/HP\", \"My Network/Blackrock College\", \"My Network/Universitat de Barcelona\", \"My Network/Ironhack\", \"My Network/EY\", \"My Network/Freelance\", \"My Network/PwC\", \"My Network/Freelancer\", \"My Network/Glovo\", \"My Network/Merkle EMEA\", \"My Network/Accenture\", \"My Network/Ironhack\", \"My Network/HP\", \"My Network/PepsiCo\", \"My Network/Ironhack\", \"My Network/Accenture\", \"My Network/Ironhack\", \"My Network/Blackrock College\", \"My Network/Deloitte Espa\\u00f1a\", \"My Network/Deloitte\", \"My Network/Glovo\", \"My Network/PepsiCo\", \"My Network/PwC Espa\\u00f1a\", \"My Network/Blackrock College\", \"My Network/Freelance\", \"My Network/Accenture\", \"My Network/Ironhack\", \"My Network/Freelance\", \"My Network/haddock\", \"My Network/Freelance\", \"My Network/Freelancer\", \"My Network\", \"My Network\", \"My Network\", \"My Network\", \"My Network\", \"My Network\", \"My Network\", \"My Network\", \"My Network\", \"My Network\", \"My Network\", \"My Network\", \"My Network\", \"My Network\", \"My Network\", \"My Network\", \"My Network\", \"My Network\", \"My Network\", \"My Network\", \"My Network\", \"My Network\", \"My Network\", \"My Network\", \"My Network\", \"\"], \"type\": \"treemap\", \"values\": [1, 1, 1, 1, 1, 1, 1, 2, 2, 2, 1, 1, 1, 1, 1, 1, 1, 1, 1, 1, 1, 1, 1, 1, 1, 1, 1, 1, 1, 1, 1, 1, 1, 1, 1, 1, 1, 1, 1, 1, 1, 1, 1, 1, 2, 1, 1, 1, 1, 1, 1, 1, 1, 1, 1, 1, 1, 1, 1, 1, 1, 1, 1, 1, 1, 1, 1, 1, 1, 1, 1, 1, 1, 1, 1, 1, 1, 1, 1, 1, 1, 1, 1, 1, 1, 1, 1, 1, 1, 1, 1, 1, 1, 1, 4, 2, 3, 5, 2, 2, 6, 3, 4, 7, 3, 3, 2, 23, 3, 3, 2, 2, 2, 6, 2, 2, 2, 3, 2, 98]}],                        {\"height\": 1000, \"legend\": {\"tracegroupgap\": 0}, \"margin\": {\"t\": 60}, \"template\": {\"data\": {\"bar\": [{\"error_x\": {\"color\": \"#2a3f5f\"}, \"error_y\": {\"color\": \"#2a3f5f\"}, \"marker\": {\"line\": {\"color\": \"#E5ECF6\", \"width\": 0.5}}, \"type\": \"bar\"}], \"barpolar\": [{\"marker\": {\"line\": {\"color\": \"#E5ECF6\", \"width\": 0.5}}, \"type\": \"barpolar\"}], \"carpet\": [{\"aaxis\": {\"endlinecolor\": \"#2a3f5f\", \"gridcolor\": \"white\", \"linecolor\": \"white\", \"minorgridcolor\": \"white\", \"startlinecolor\": \"#2a3f5f\"}, \"baxis\": {\"endlinecolor\": \"#2a3f5f\", \"gridcolor\": \"white\", \"linecolor\": \"white\", \"minorgridcolor\": \"white\", \"startlinecolor\": \"#2a3f5f\"}, \"type\": \"carpet\"}], \"choropleth\": [{\"colorbar\": {\"outlinewidth\": 0, \"ticks\": \"\"}, \"type\": \"choropleth\"}], \"contour\": [{\"colorbar\": {\"outlinewidth\": 0, \"ticks\": \"\"}, \"colorscale\": [[0.0, \"#0d0887\"], [0.1111111111111111, \"#46039f\"], [0.2222222222222222, \"#7201a8\"], [0.3333333333333333, \"#9c179e\"], [0.4444444444444444, \"#bd3786\"], [0.5555555555555556, \"#d8576b\"], [0.6666666666666666, \"#ed7953\"], [0.7777777777777778, \"#fb9f3a\"], [0.8888888888888888, \"#fdca26\"], [1.0, \"#f0f921\"]], \"type\": \"contour\"}], \"contourcarpet\": [{\"colorbar\": {\"outlinewidth\": 0, \"ticks\": \"\"}, \"type\": \"contourcarpet\"}], \"heatmap\": [{\"colorbar\": {\"outlinewidth\": 0, \"ticks\": \"\"}, \"colorscale\": [[0.0, \"#0d0887\"], [0.1111111111111111, \"#46039f\"], [0.2222222222222222, \"#7201a8\"], [0.3333333333333333, \"#9c179e\"], [0.4444444444444444, \"#bd3786\"], [0.5555555555555556, \"#d8576b\"], [0.6666666666666666, \"#ed7953\"], [0.7777777777777778, \"#fb9f3a\"], [0.8888888888888888, \"#fdca26\"], [1.0, \"#f0f921\"]], \"type\": \"heatmap\"}], \"heatmapgl\": [{\"colorbar\": {\"outlinewidth\": 0, \"ticks\": \"\"}, \"colorscale\": [[0.0, \"#0d0887\"], [0.1111111111111111, \"#46039f\"], [0.2222222222222222, \"#7201a8\"], [0.3333333333333333, \"#9c179e\"], [0.4444444444444444, \"#bd3786\"], [0.5555555555555556, \"#d8576b\"], [0.6666666666666666, \"#ed7953\"], [0.7777777777777778, \"#fb9f3a\"], [0.8888888888888888, \"#fdca26\"], [1.0, \"#f0f921\"]], \"type\": \"heatmapgl\"}], \"histogram\": [{\"marker\": {\"colorbar\": {\"outlinewidth\": 0, \"ticks\": \"\"}}, \"type\": \"histogram\"}], \"histogram2d\": [{\"colorbar\": {\"outlinewidth\": 0, \"ticks\": \"\"}, \"colorscale\": [[0.0, \"#0d0887\"], [0.1111111111111111, \"#46039f\"], [0.2222222222222222, \"#7201a8\"], [0.3333333333333333, \"#9c179e\"], [0.4444444444444444, \"#bd3786\"], [0.5555555555555556, \"#d8576b\"], [0.6666666666666666, \"#ed7953\"], [0.7777777777777778, \"#fb9f3a\"], [0.8888888888888888, \"#fdca26\"], [1.0, \"#f0f921\"]], \"type\": \"histogram2d\"}], \"histogram2dcontour\": [{\"colorbar\": {\"outlinewidth\": 0, \"ticks\": \"\"}, \"colorscale\": [[0.0, \"#0d0887\"], [0.1111111111111111, \"#46039f\"], [0.2222222222222222, \"#7201a8\"], [0.3333333333333333, \"#9c179e\"], [0.4444444444444444, \"#bd3786\"], [0.5555555555555556, \"#d8576b\"], [0.6666666666666666, \"#ed7953\"], [0.7777777777777778, \"#fb9f3a\"], [0.8888888888888888, \"#fdca26\"], [1.0, \"#f0f921\"]], \"type\": \"histogram2dcontour\"}], \"mesh3d\": [{\"colorbar\": {\"outlinewidth\": 0, \"ticks\": \"\"}, \"type\": \"mesh3d\"}], \"parcoords\": [{\"line\": {\"colorbar\": {\"outlinewidth\": 0, \"ticks\": \"\"}}, \"type\": \"parcoords\"}], \"pie\": [{\"automargin\": true, \"type\": \"pie\"}], \"scatter\": [{\"marker\": {\"colorbar\": {\"outlinewidth\": 0, \"ticks\": \"\"}}, \"type\": \"scatter\"}], \"scatter3d\": [{\"line\": {\"colorbar\": {\"outlinewidth\": 0, \"ticks\": \"\"}}, \"marker\": {\"colorbar\": {\"outlinewidth\": 0, \"ticks\": \"\"}}, \"type\": \"scatter3d\"}], \"scattercarpet\": [{\"marker\": {\"colorbar\": {\"outlinewidth\": 0, \"ticks\": \"\"}}, \"type\": \"scattercarpet\"}], \"scattergeo\": [{\"marker\": {\"colorbar\": {\"outlinewidth\": 0, \"ticks\": \"\"}}, \"type\": \"scattergeo\"}], \"scattergl\": [{\"marker\": {\"colorbar\": {\"outlinewidth\": 0, \"ticks\": \"\"}}, \"type\": \"scattergl\"}], \"scattermapbox\": [{\"marker\": {\"colorbar\": {\"outlinewidth\": 0, \"ticks\": \"\"}}, \"type\": \"scattermapbox\"}], \"scatterpolar\": [{\"marker\": {\"colorbar\": {\"outlinewidth\": 0, \"ticks\": \"\"}}, \"type\": \"scatterpolar\"}], \"scatterpolargl\": [{\"marker\": {\"colorbar\": {\"outlinewidth\": 0, \"ticks\": \"\"}}, \"type\": \"scatterpolargl\"}], \"scatterternary\": [{\"marker\": {\"colorbar\": {\"outlinewidth\": 0, \"ticks\": \"\"}}, \"type\": \"scatterternary\"}], \"surface\": [{\"colorbar\": {\"outlinewidth\": 0, \"ticks\": \"\"}, \"colorscale\": [[0.0, \"#0d0887\"], [0.1111111111111111, \"#46039f\"], [0.2222222222222222, \"#7201a8\"], [0.3333333333333333, \"#9c179e\"], [0.4444444444444444, \"#bd3786\"], [0.5555555555555556, \"#d8576b\"], [0.6666666666666666, \"#ed7953\"], [0.7777777777777778, \"#fb9f3a\"], [0.8888888888888888, \"#fdca26\"], [1.0, \"#f0f921\"]], \"type\": \"surface\"}], \"table\": [{\"cells\": {\"fill\": {\"color\": \"#EBF0F8\"}, \"line\": {\"color\": \"white\"}}, \"header\": {\"fill\": {\"color\": \"#C8D4E3\"}, \"line\": {\"color\": \"white\"}}, \"type\": \"table\"}]}, \"layout\": {\"annotationdefaults\": {\"arrowcolor\": \"#2a3f5f\", \"arrowhead\": 0, \"arrowwidth\": 1}, \"autotypenumbers\": \"strict\", \"coloraxis\": {\"colorbar\": {\"outlinewidth\": 0, \"ticks\": \"\"}}, \"colorscale\": {\"diverging\": [[0, \"#8e0152\"], [0.1, \"#c51b7d\"], [0.2, \"#de77ae\"], [0.3, \"#f1b6da\"], [0.4, \"#fde0ef\"], [0.5, \"#f7f7f7\"], [0.6, \"#e6f5d0\"], [0.7, \"#b8e186\"], [0.8, \"#7fbc41\"], [0.9, \"#4d9221\"], [1, \"#276419\"]], \"sequential\": [[0.0, \"#0d0887\"], [0.1111111111111111, \"#46039f\"], [0.2222222222222222, \"#7201a8\"], [0.3333333333333333, \"#9c179e\"], [0.4444444444444444, \"#bd3786\"], [0.5555555555555556, \"#d8576b\"], [0.6666666666666666, \"#ed7953\"], [0.7777777777777778, \"#fb9f3a\"], [0.8888888888888888, \"#fdca26\"], [1.0, \"#f0f921\"]], \"sequentialminus\": [[0.0, \"#0d0887\"], [0.1111111111111111, \"#46039f\"], [0.2222222222222222, \"#7201a8\"], [0.3333333333333333, \"#9c179e\"], [0.4444444444444444, \"#bd3786\"], [0.5555555555555556, \"#d8576b\"], [0.6666666666666666, \"#ed7953\"], [0.7777777777777778, \"#fb9f3a\"], [0.8888888888888888, \"#fdca26\"], [1.0, \"#f0f921\"]]}, \"colorway\": [\"#636efa\", \"#EF553B\", \"#00cc96\", \"#ab63fa\", \"#FFA15A\", \"#19d3f3\", \"#FF6692\", \"#B6E880\", \"#FF97FF\", \"#FECB52\"], \"font\": {\"color\": \"#2a3f5f\"}, \"geo\": {\"bgcolor\": \"white\", \"lakecolor\": \"white\", \"landcolor\": \"#E5ECF6\", \"showlakes\": true, \"showland\": true, \"subunitcolor\": \"white\"}, \"hoverlabel\": {\"align\": \"left\"}, \"hovermode\": \"closest\", \"mapbox\": {\"style\": \"light\"}, \"paper_bgcolor\": \"white\", \"plot_bgcolor\": \"#E5ECF6\", \"polar\": {\"angularaxis\": {\"gridcolor\": \"white\", \"linecolor\": \"white\", \"ticks\": \"\"}, \"bgcolor\": \"#E5ECF6\", \"radialaxis\": {\"gridcolor\": \"white\", \"linecolor\": \"white\", \"ticks\": \"\"}}, \"scene\": {\"xaxis\": {\"backgroundcolor\": \"#E5ECF6\", \"gridcolor\": \"white\", \"gridwidth\": 2, \"linecolor\": \"white\", \"showbackground\": true, \"ticks\": \"\", \"zerolinecolor\": \"white\"}, \"yaxis\": {\"backgroundcolor\": \"#E5ECF6\", \"gridcolor\": \"white\", \"gridwidth\": 2, \"linecolor\": \"white\", \"showbackground\": true, \"ticks\": \"\", \"zerolinecolor\": \"white\"}, \"zaxis\": {\"backgroundcolor\": \"#E5ECF6\", \"gridcolor\": \"white\", \"gridwidth\": 2, \"linecolor\": \"white\", \"showbackground\": true, \"ticks\": \"\", \"zerolinecolor\": \"white\"}}, \"shapedefaults\": {\"line\": {\"color\": \"#2a3f5f\"}}, \"ternary\": {\"aaxis\": {\"gridcolor\": \"white\", \"linecolor\": \"white\", \"ticks\": \"\"}, \"baxis\": {\"gridcolor\": \"white\", \"linecolor\": \"white\", \"ticks\": \"\"}, \"bgcolor\": \"#E5ECF6\", \"caxis\": {\"gridcolor\": \"white\", \"linecolor\": \"white\", \"ticks\": \"\"}}, \"title\": {\"x\": 0.05}, \"xaxis\": {\"automargin\": true, \"gridcolor\": \"white\", \"linecolor\": \"white\", \"ticks\": \"\", \"title\": {\"standoff\": 15}, \"zerolinecolor\": \"white\", \"zerolinewidth\": 2}, \"yaxis\": {\"automargin\": true, \"gridcolor\": \"white\", \"linecolor\": \"white\", \"ticks\": \"\", \"title\": {\"standoff\": 15}, \"zerolinecolor\": \"white\", \"zerolinewidth\": 2}}}, \"width\": 1000},                        {\"responsive\": true}                    ).then(function(){\n",
       "                            \n",
       "var gd = document.getElementById('e61fa82a-c8c7-4018-88c6-b513a1b12990');\n",
       "var x = new MutationObserver(function (mutations, observer) {{\n",
       "        var display = window.getComputedStyle(gd).display;\n",
       "        if (!display || display === 'none') {{\n",
       "            console.log([gd, 'removed!']);\n",
       "            Plotly.purge(gd);\n",
       "            observer.disconnect();\n",
       "        }}\n",
       "}});\n",
       "\n",
       "// Listen for the removal of the full notebook cells\n",
       "var notebookContainer = gd.closest('#notebook-container');\n",
       "if (notebookContainer) {{\n",
       "    x.observe(notebookContainer, {childList: true});\n",
       "}}\n",
       "\n",
       "// Listen for the clearing of the current output cell\n",
       "var outputEl = gd.closest('.output');\n",
       "if (outputEl) {{\n",
       "    x.observe(outputEl, {childList: true});\n",
       "}}\n",
       "\n",
       "                        })                };                });            </script>        </div>"
      ]
     },
     "metadata": {},
     "output_type": "display_data"
    }
   ],
   "source": [
    "company_tree_map = px.treemap(df, path=['My Network', 'Company', 'Position'], width=1000, height=1000)\n",
    "company_tree_map.show()"
   ]
  },
  {
   "cell_type": "code",
   "execution_count": 64,
   "id": "continent-infrared",
   "metadata": {
    "ExecuteTime": {
     "end_time": "2021-03-16T09:59:36.852711Z",
     "start_time": "2021-03-16T09:59:36.612386Z"
    },
    "scrolled": true
   },
   "outputs": [
    {
     "data": {
      "application/vnd.plotly.v1+json": {
       "config": {
        "plotlyServerURL": "https://plotly.com"
       },
       "data": [
        {
         "branchvalues": "total",
         "domain": {
          "x": [
           0,
           1
          ],
          "y": [
           0,
           1
          ]
         },
         "hovertemplate": "labels=%{label}<br>count=%{value}<br>parent=%{parent}<br>id=%{id}<extra></extra>",
         "ids": [
          "My Network/Business Analyst/AFP Audit Financial Partners",
          "My Network/Frontend Developer/Altran",
          "My Network/Data Analyst/Amazon",
          "My Network/Data analyst/Antai Venture Builder",
          "My Network/Account Manager/Arval -  BNP Paribas Group",
          "My Network/Audit Associate/BDO Ireland",
          "My Network/Junior Auditor/BDO Spain",
          "My Network/Business Analyst/BIP",
          "My Network/Data Analyst/BMIND",
          "My Network/Data Analyst/Banco Sabadell",
          "My Network/Principal/Blackrock College",
          "My Network/Data Analyst/COFARES",
          "My Network/Gestor comercial/CaixaBank",
          "My Network/Senior Data Analyst/Cargamos",
          "My Network/Business Analyst/Cassidy Travel",
          "My Network/Junior Developer/Chessable Limited",
          "My Network/Data Analyst/ClearPeaks",
          "My Network/Data Analyst/Code Academy Berlin",
          "My Network/Frontend Developer/Codeoscopic",
          "My Network/Estudiante en prácticas/CompsaOnline",
          "My Network/Associate Consultant/Conexus ",
          "My Network/Socio inversor/Cuidkers",
          "My Network/UX/UI Designer/DLO Corp",
          "My Network/Audit Junior/Deloitte",
          "My Network/Account Development Representative/DocuSign",
          "My Network/Data Analyst/Electronic Arts (EA)",
          "My Network/Business Analyst/Enveseur",
          "My Network/Senior Data Analyst/FCM Lab Barcelona",
          "My Network/Business Analyst/FloraQueen",
          "My Network/Data Analyst/Freelance",
          "My Network/UX/UI Designer/Freelance",
          "My Network/Analista de datos/GIS4tech",
          "My Network/Data Analyst/Gartner",
          "My Network/Data Analyst/Glovo",
          "My Network/Finance Assistant/Grupo Casa Viva",
          "My Network/UX/UI Designer/HiKlub",
          "My Network/Analyst/Hines",
          "My Network/Data analyst/InfoDirect 2003 ",
          "My Network/Co-Founder/Ironhack",
          "My Network/Estudiante en prácticas/Jrsystems",
          "My Network/Deal Advisory - Transaction Services Associate/KPMG",
          "My Network/Intern/KPMG",
          "My Network/Deal Advisory - Transaction Services Associate/KPMG Ireland",
          "My Network/Data Analyst/KPMG Managed Solutions",
          "My Network/Co-Founder/Kalcetin.es",
          "My Network/UX/UI Designer/Kognia Sports Intelligence",
          "My Network/UX/UI Designer/Leadtech Group",
          "My Network/Account Manager/Leyton",
          "My Network/Business Intelligence Analyst/Logitravel Group",
          "My Network/Business Intelligence Analyst/Louis Vuitton",
          "My Network/Account Development Representative/MongoDB",
          "My Network/Software Developer/Opentrends",
          "My Network/Business Intelligence Analyst/Platanomelón",
          "My Network/Finance Assistant/Plytix.com",
          "My Network/Frontend Developer/Pride Places",
          "My Network/Analista de datos/Profesional Independiente",
          "My Network/Audit Associate/PwC España",
          "My Network/Audit Junior/PwC España",
          "My Network/Developer/Quantion",
          "My Network/Frontend Developer/Quipu",
          "My Network/UX/UI Designer/Relief Applications",
          "My Network/Junior Auditor/SPASA AUDITORIA SLP",
          "My Network/Data Analyst/Stuart",
          "My Network/Junior Developer/TangramBPM",
          "My Network/Intern/The Conservative Party",
          "My Network/Developer/ThoughtWorks",
          "My Network/Data Analyst/UPC School (Universitat Politècnica de Catalunya)",
          "My Network/Socio inversor/United Gamers",
          "My Network/Associate Consultant/Version 1",
          "My Network/Analyst/Vistaprint",
          "My Network/Principal/Willow Park Senior School",
          "My Network/Data Analyst/Wix.com",
          "My Network/UX/UI Designer/haddock",
          "My Network/Data Analyst/i-surance AG",
          "My Network/Software Developer/isolutions AG",
          "My Network/Account Development Representative",
          "My Network/Account Manager",
          "My Network/Analista de datos",
          "My Network/Analyst",
          "My Network/Associate Consultant",
          "My Network/Audit Associate",
          "My Network/Audit Junior",
          "My Network/Business Analyst",
          "My Network/Business Intelligence Analyst",
          "My Network/Co-Founder",
          "My Network/Data Analyst",
          "My Network/Data analyst",
          "My Network/Deal Advisory - Transaction Services Associate",
          "My Network/Developer",
          "My Network/Estudiante en prácticas",
          "My Network/Finance Assistant",
          "My Network/Frontend Developer",
          "My Network/Gestor comercial",
          "My Network/Intern",
          "My Network/Junior Auditor",
          "My Network/Junior Developer",
          "My Network/Principal",
          "My Network/Senior Data Analyst",
          "My Network/Socio inversor",
          "My Network/Software Developer",
          "My Network/UX/UI Designer",
          "My Network"
         ],
         "labels": [
          "AFP Audit Financial Partners",
          "Altran",
          "Amazon",
          "Antai Venture Builder",
          "Arval -  BNP Paribas Group",
          "BDO Ireland",
          "BDO Spain",
          "BIP",
          "BMIND",
          "Banco Sabadell",
          "Blackrock College",
          "COFARES",
          "CaixaBank",
          "Cargamos",
          "Cassidy Travel",
          "Chessable Limited",
          "ClearPeaks",
          "Code Academy Berlin",
          "Codeoscopic",
          "CompsaOnline",
          "Conexus ",
          "Cuidkers",
          "DLO Corp",
          "Deloitte",
          "DocuSign",
          "Electronic Arts (EA)",
          "Enveseur",
          "FCM Lab Barcelona",
          "FloraQueen",
          "Freelance",
          "Freelance",
          "GIS4tech",
          "Gartner",
          "Glovo",
          "Grupo Casa Viva",
          "HiKlub",
          "Hines",
          "InfoDirect 2003 ",
          "Ironhack",
          "Jrsystems",
          "KPMG",
          "KPMG",
          "KPMG Ireland",
          "KPMG Managed Solutions",
          "Kalcetin.es",
          "Kognia Sports Intelligence",
          "Leadtech Group",
          "Leyton",
          "Logitravel Group",
          "Louis Vuitton",
          "MongoDB",
          "Opentrends",
          "Platanomelón",
          "Plytix.com",
          "Pride Places",
          "Profesional Independiente",
          "PwC España",
          "PwC España",
          "Quantion",
          "Quipu",
          "Relief Applications",
          "SPASA AUDITORIA SLP",
          "Stuart",
          "TangramBPM",
          "The Conservative Party",
          "ThoughtWorks",
          "UPC School (Universitat Politècnica de Catalunya)",
          "United Gamers",
          "Version 1",
          "Vistaprint",
          "Willow Park Senior School",
          "Wix.com",
          "haddock",
          "i-surance AG",
          "isolutions AG",
          "Account Development Representative",
          "Account Manager",
          "Analista de datos",
          "Analyst",
          "Associate Consultant",
          "Audit Associate",
          "Audit Junior",
          "Business Analyst",
          "Business Intelligence Analyst",
          "Co-Founder",
          "Data Analyst",
          "Data analyst",
          "Deal Advisory - Transaction Services Associate",
          "Developer",
          "Estudiante en prácticas",
          "Finance Assistant",
          "Frontend Developer",
          "Gestor comercial",
          "Intern",
          "Junior Auditor",
          "Junior Developer",
          "Principal",
          "Senior Data Analyst",
          "Socio inversor",
          "Software Developer",
          "UX/UI Designer",
          "My Network"
         ],
         "name": "",
         "parents": [
          "My Network/Business Analyst",
          "My Network/Frontend Developer",
          "My Network/Data Analyst",
          "My Network/Data analyst",
          "My Network/Account Manager",
          "My Network/Audit Associate",
          "My Network/Junior Auditor",
          "My Network/Business Analyst",
          "My Network/Data Analyst",
          "My Network/Data Analyst",
          "My Network/Principal",
          "My Network/Data Analyst",
          "My Network/Gestor comercial",
          "My Network/Senior Data Analyst",
          "My Network/Business Analyst",
          "My Network/Junior Developer",
          "My Network/Data Analyst",
          "My Network/Data Analyst",
          "My Network/Frontend Developer",
          "My Network/Estudiante en prácticas",
          "My Network/Associate Consultant",
          "My Network/Socio inversor",
          "My Network/UX/UI Designer",
          "My Network/Audit Junior",
          "My Network/Account Development Representative",
          "My Network/Data Analyst",
          "My Network/Business Analyst",
          "My Network/Senior Data Analyst",
          "My Network/Business Analyst",
          "My Network/Data Analyst",
          "My Network/UX/UI Designer",
          "My Network/Analista de datos",
          "My Network/Data Analyst",
          "My Network/Data Analyst",
          "My Network/Finance Assistant",
          "My Network/UX/UI Designer",
          "My Network/Analyst",
          "My Network/Data analyst",
          "My Network/Co-Founder",
          "My Network/Estudiante en prácticas",
          "My Network/Deal Advisory - Transaction Services Associate",
          "My Network/Intern",
          "My Network/Deal Advisory - Transaction Services Associate",
          "My Network/Data Analyst",
          "My Network/Co-Founder",
          "My Network/UX/UI Designer",
          "My Network/UX/UI Designer",
          "My Network/Account Manager",
          "My Network/Business Intelligence Analyst",
          "My Network/Business Intelligence Analyst",
          "My Network/Account Development Representative",
          "My Network/Software Developer",
          "My Network/Business Intelligence Analyst",
          "My Network/Finance Assistant",
          "My Network/Frontend Developer",
          "My Network/Analista de datos",
          "My Network/Audit Associate",
          "My Network/Audit Junior",
          "My Network/Developer",
          "My Network/Frontend Developer",
          "My Network/UX/UI Designer",
          "My Network/Junior Auditor",
          "My Network/Data Analyst",
          "My Network/Junior Developer",
          "My Network/Intern",
          "My Network/Developer",
          "My Network/Data Analyst",
          "My Network/Socio inversor",
          "My Network/Associate Consultant",
          "My Network/Analyst",
          "My Network/Principal",
          "My Network/Data Analyst",
          "My Network/UX/UI Designer",
          "My Network/Data Analyst",
          "My Network/Software Developer",
          "My Network",
          "My Network",
          "My Network",
          "My Network",
          "My Network",
          "My Network",
          "My Network",
          "My Network",
          "My Network",
          "My Network",
          "My Network",
          "My Network",
          "My Network",
          "My Network",
          "My Network",
          "My Network",
          "My Network",
          "My Network",
          "My Network",
          "My Network",
          "My Network",
          "My Network",
          "My Network",
          "My Network",
          "My Network",
          "My Network",
          ""
         ],
         "type": "treemap",
         "values": [
          1,
          1,
          1,
          1,
          1,
          1,
          1,
          1,
          1,
          1,
          1,
          1,
          2,
          1,
          1,
          1,
          1,
          1,
          1,
          1,
          1,
          1,
          1,
          2,
          1,
          1,
          1,
          1,
          1,
          1,
          1,
          1,
          1,
          1,
          1,
          1,
          1,
          1,
          1,
          1,
          1,
          1,
          1,
          1,
          1,
          1,
          1,
          1,
          1,
          1,
          1,
          1,
          1,
          1,
          1,
          1,
          2,
          2,
          1,
          1,
          1,
          1,
          1,
          1,
          1,
          1,
          1,
          1,
          1,
          1,
          1,
          1,
          1,
          1,
          1,
          2,
          2,
          2,
          2,
          2,
          3,
          4,
          5,
          3,
          2,
          15,
          2,
          2,
          2,
          2,
          2,
          4,
          2,
          2,
          2,
          2,
          2,
          2,
          2,
          2,
          7,
          79
         ]
        }
       ],
       "layout": {
        "height": 1000,
        "legend": {
         "tracegroupgap": 0
        },
        "margin": {
         "t": 60
        },
        "template": {
         "data": {
          "bar": [
           {
            "error_x": {
             "color": "#2a3f5f"
            },
            "error_y": {
             "color": "#2a3f5f"
            },
            "marker": {
             "line": {
              "color": "#E5ECF6",
              "width": 0.5
             }
            },
            "type": "bar"
           }
          ],
          "barpolar": [
           {
            "marker": {
             "line": {
              "color": "#E5ECF6",
              "width": 0.5
             }
            },
            "type": "barpolar"
           }
          ],
          "carpet": [
           {
            "aaxis": {
             "endlinecolor": "#2a3f5f",
             "gridcolor": "white",
             "linecolor": "white",
             "minorgridcolor": "white",
             "startlinecolor": "#2a3f5f"
            },
            "baxis": {
             "endlinecolor": "#2a3f5f",
             "gridcolor": "white",
             "linecolor": "white",
             "minorgridcolor": "white",
             "startlinecolor": "#2a3f5f"
            },
            "type": "carpet"
           }
          ],
          "choropleth": [
           {
            "colorbar": {
             "outlinewidth": 0,
             "ticks": ""
            },
            "type": "choropleth"
           }
          ],
          "contour": [
           {
            "colorbar": {
             "outlinewidth": 0,
             "ticks": ""
            },
            "colorscale": [
             [
              0,
              "#0d0887"
             ],
             [
              0.1111111111111111,
              "#46039f"
             ],
             [
              0.2222222222222222,
              "#7201a8"
             ],
             [
              0.3333333333333333,
              "#9c179e"
             ],
             [
              0.4444444444444444,
              "#bd3786"
             ],
             [
              0.5555555555555556,
              "#d8576b"
             ],
             [
              0.6666666666666666,
              "#ed7953"
             ],
             [
              0.7777777777777778,
              "#fb9f3a"
             ],
             [
              0.8888888888888888,
              "#fdca26"
             ],
             [
              1,
              "#f0f921"
             ]
            ],
            "type": "contour"
           }
          ],
          "contourcarpet": [
           {
            "colorbar": {
             "outlinewidth": 0,
             "ticks": ""
            },
            "type": "contourcarpet"
           }
          ],
          "heatmap": [
           {
            "colorbar": {
             "outlinewidth": 0,
             "ticks": ""
            },
            "colorscale": [
             [
              0,
              "#0d0887"
             ],
             [
              0.1111111111111111,
              "#46039f"
             ],
             [
              0.2222222222222222,
              "#7201a8"
             ],
             [
              0.3333333333333333,
              "#9c179e"
             ],
             [
              0.4444444444444444,
              "#bd3786"
             ],
             [
              0.5555555555555556,
              "#d8576b"
             ],
             [
              0.6666666666666666,
              "#ed7953"
             ],
             [
              0.7777777777777778,
              "#fb9f3a"
             ],
             [
              0.8888888888888888,
              "#fdca26"
             ],
             [
              1,
              "#f0f921"
             ]
            ],
            "type": "heatmap"
           }
          ],
          "heatmapgl": [
           {
            "colorbar": {
             "outlinewidth": 0,
             "ticks": ""
            },
            "colorscale": [
             [
              0,
              "#0d0887"
             ],
             [
              0.1111111111111111,
              "#46039f"
             ],
             [
              0.2222222222222222,
              "#7201a8"
             ],
             [
              0.3333333333333333,
              "#9c179e"
             ],
             [
              0.4444444444444444,
              "#bd3786"
             ],
             [
              0.5555555555555556,
              "#d8576b"
             ],
             [
              0.6666666666666666,
              "#ed7953"
             ],
             [
              0.7777777777777778,
              "#fb9f3a"
             ],
             [
              0.8888888888888888,
              "#fdca26"
             ],
             [
              1,
              "#f0f921"
             ]
            ],
            "type": "heatmapgl"
           }
          ],
          "histogram": [
           {
            "marker": {
             "colorbar": {
              "outlinewidth": 0,
              "ticks": ""
             }
            },
            "type": "histogram"
           }
          ],
          "histogram2d": [
           {
            "colorbar": {
             "outlinewidth": 0,
             "ticks": ""
            },
            "colorscale": [
             [
              0,
              "#0d0887"
             ],
             [
              0.1111111111111111,
              "#46039f"
             ],
             [
              0.2222222222222222,
              "#7201a8"
             ],
             [
              0.3333333333333333,
              "#9c179e"
             ],
             [
              0.4444444444444444,
              "#bd3786"
             ],
             [
              0.5555555555555556,
              "#d8576b"
             ],
             [
              0.6666666666666666,
              "#ed7953"
             ],
             [
              0.7777777777777778,
              "#fb9f3a"
             ],
             [
              0.8888888888888888,
              "#fdca26"
             ],
             [
              1,
              "#f0f921"
             ]
            ],
            "type": "histogram2d"
           }
          ],
          "histogram2dcontour": [
           {
            "colorbar": {
             "outlinewidth": 0,
             "ticks": ""
            },
            "colorscale": [
             [
              0,
              "#0d0887"
             ],
             [
              0.1111111111111111,
              "#46039f"
             ],
             [
              0.2222222222222222,
              "#7201a8"
             ],
             [
              0.3333333333333333,
              "#9c179e"
             ],
             [
              0.4444444444444444,
              "#bd3786"
             ],
             [
              0.5555555555555556,
              "#d8576b"
             ],
             [
              0.6666666666666666,
              "#ed7953"
             ],
             [
              0.7777777777777778,
              "#fb9f3a"
             ],
             [
              0.8888888888888888,
              "#fdca26"
             ],
             [
              1,
              "#f0f921"
             ]
            ],
            "type": "histogram2dcontour"
           }
          ],
          "mesh3d": [
           {
            "colorbar": {
             "outlinewidth": 0,
             "ticks": ""
            },
            "type": "mesh3d"
           }
          ],
          "parcoords": [
           {
            "line": {
             "colorbar": {
              "outlinewidth": 0,
              "ticks": ""
             }
            },
            "type": "parcoords"
           }
          ],
          "pie": [
           {
            "automargin": true,
            "type": "pie"
           }
          ],
          "scatter": [
           {
            "marker": {
             "colorbar": {
              "outlinewidth": 0,
              "ticks": ""
             }
            },
            "type": "scatter"
           }
          ],
          "scatter3d": [
           {
            "line": {
             "colorbar": {
              "outlinewidth": 0,
              "ticks": ""
             }
            },
            "marker": {
             "colorbar": {
              "outlinewidth": 0,
              "ticks": ""
             }
            },
            "type": "scatter3d"
           }
          ],
          "scattercarpet": [
           {
            "marker": {
             "colorbar": {
              "outlinewidth": 0,
              "ticks": ""
             }
            },
            "type": "scattercarpet"
           }
          ],
          "scattergeo": [
           {
            "marker": {
             "colorbar": {
              "outlinewidth": 0,
              "ticks": ""
             }
            },
            "type": "scattergeo"
           }
          ],
          "scattergl": [
           {
            "marker": {
             "colorbar": {
              "outlinewidth": 0,
              "ticks": ""
             }
            },
            "type": "scattergl"
           }
          ],
          "scattermapbox": [
           {
            "marker": {
             "colorbar": {
              "outlinewidth": 0,
              "ticks": ""
             }
            },
            "type": "scattermapbox"
           }
          ],
          "scatterpolar": [
           {
            "marker": {
             "colorbar": {
              "outlinewidth": 0,
              "ticks": ""
             }
            },
            "type": "scatterpolar"
           }
          ],
          "scatterpolargl": [
           {
            "marker": {
             "colorbar": {
              "outlinewidth": 0,
              "ticks": ""
             }
            },
            "type": "scatterpolargl"
           }
          ],
          "scatterternary": [
           {
            "marker": {
             "colorbar": {
              "outlinewidth": 0,
              "ticks": ""
             }
            },
            "type": "scatterternary"
           }
          ],
          "surface": [
           {
            "colorbar": {
             "outlinewidth": 0,
             "ticks": ""
            },
            "colorscale": [
             [
              0,
              "#0d0887"
             ],
             [
              0.1111111111111111,
              "#46039f"
             ],
             [
              0.2222222222222222,
              "#7201a8"
             ],
             [
              0.3333333333333333,
              "#9c179e"
             ],
             [
              0.4444444444444444,
              "#bd3786"
             ],
             [
              0.5555555555555556,
              "#d8576b"
             ],
             [
              0.6666666666666666,
              "#ed7953"
             ],
             [
              0.7777777777777778,
              "#fb9f3a"
             ],
             [
              0.8888888888888888,
              "#fdca26"
             ],
             [
              1,
              "#f0f921"
             ]
            ],
            "type": "surface"
           }
          ],
          "table": [
           {
            "cells": {
             "fill": {
              "color": "#EBF0F8"
             },
             "line": {
              "color": "white"
             }
            },
            "header": {
             "fill": {
              "color": "#C8D4E3"
             },
             "line": {
              "color": "white"
             }
            },
            "type": "table"
           }
          ]
         },
         "layout": {
          "annotationdefaults": {
           "arrowcolor": "#2a3f5f",
           "arrowhead": 0,
           "arrowwidth": 1
          },
          "autotypenumbers": "strict",
          "coloraxis": {
           "colorbar": {
            "outlinewidth": 0,
            "ticks": ""
           }
          },
          "colorscale": {
           "diverging": [
            [
             0,
             "#8e0152"
            ],
            [
             0.1,
             "#c51b7d"
            ],
            [
             0.2,
             "#de77ae"
            ],
            [
             0.3,
             "#f1b6da"
            ],
            [
             0.4,
             "#fde0ef"
            ],
            [
             0.5,
             "#f7f7f7"
            ],
            [
             0.6,
             "#e6f5d0"
            ],
            [
             0.7,
             "#b8e186"
            ],
            [
             0.8,
             "#7fbc41"
            ],
            [
             0.9,
             "#4d9221"
            ],
            [
             1,
             "#276419"
            ]
           ],
           "sequential": [
            [
             0,
             "#0d0887"
            ],
            [
             0.1111111111111111,
             "#46039f"
            ],
            [
             0.2222222222222222,
             "#7201a8"
            ],
            [
             0.3333333333333333,
             "#9c179e"
            ],
            [
             0.4444444444444444,
             "#bd3786"
            ],
            [
             0.5555555555555556,
             "#d8576b"
            ],
            [
             0.6666666666666666,
             "#ed7953"
            ],
            [
             0.7777777777777778,
             "#fb9f3a"
            ],
            [
             0.8888888888888888,
             "#fdca26"
            ],
            [
             1,
             "#f0f921"
            ]
           ],
           "sequentialminus": [
            [
             0,
             "#0d0887"
            ],
            [
             0.1111111111111111,
             "#46039f"
            ],
            [
             0.2222222222222222,
             "#7201a8"
            ],
            [
             0.3333333333333333,
             "#9c179e"
            ],
            [
             0.4444444444444444,
             "#bd3786"
            ],
            [
             0.5555555555555556,
             "#d8576b"
            ],
            [
             0.6666666666666666,
             "#ed7953"
            ],
            [
             0.7777777777777778,
             "#fb9f3a"
            ],
            [
             0.8888888888888888,
             "#fdca26"
            ],
            [
             1,
             "#f0f921"
            ]
           ]
          },
          "colorway": [
           "#636efa",
           "#EF553B",
           "#00cc96",
           "#ab63fa",
           "#FFA15A",
           "#19d3f3",
           "#FF6692",
           "#B6E880",
           "#FF97FF",
           "#FECB52"
          ],
          "font": {
           "color": "#2a3f5f"
          },
          "geo": {
           "bgcolor": "white",
           "lakecolor": "white",
           "landcolor": "#E5ECF6",
           "showlakes": true,
           "showland": true,
           "subunitcolor": "white"
          },
          "hoverlabel": {
           "align": "left"
          },
          "hovermode": "closest",
          "mapbox": {
           "style": "light"
          },
          "paper_bgcolor": "white",
          "plot_bgcolor": "#E5ECF6",
          "polar": {
           "angularaxis": {
            "gridcolor": "white",
            "linecolor": "white",
            "ticks": ""
           },
           "bgcolor": "#E5ECF6",
           "radialaxis": {
            "gridcolor": "white",
            "linecolor": "white",
            "ticks": ""
           }
          },
          "scene": {
           "xaxis": {
            "backgroundcolor": "#E5ECF6",
            "gridcolor": "white",
            "gridwidth": 2,
            "linecolor": "white",
            "showbackground": true,
            "ticks": "",
            "zerolinecolor": "white"
           },
           "yaxis": {
            "backgroundcolor": "#E5ECF6",
            "gridcolor": "white",
            "gridwidth": 2,
            "linecolor": "white",
            "showbackground": true,
            "ticks": "",
            "zerolinecolor": "white"
           },
           "zaxis": {
            "backgroundcolor": "#E5ECF6",
            "gridcolor": "white",
            "gridwidth": 2,
            "linecolor": "white",
            "showbackground": true,
            "ticks": "",
            "zerolinecolor": "white"
           }
          },
          "shapedefaults": {
           "line": {
            "color": "#2a3f5f"
           }
          },
          "ternary": {
           "aaxis": {
            "gridcolor": "white",
            "linecolor": "white",
            "ticks": ""
           },
           "baxis": {
            "gridcolor": "white",
            "linecolor": "white",
            "ticks": ""
           },
           "bgcolor": "#E5ECF6",
           "caxis": {
            "gridcolor": "white",
            "linecolor": "white",
            "ticks": ""
           }
          },
          "title": {
           "x": 0.05
          },
          "xaxis": {
           "automargin": true,
           "gridcolor": "white",
           "linecolor": "white",
           "ticks": "",
           "title": {
            "standoff": 15
           },
           "zerolinecolor": "white",
           "zerolinewidth": 2
          },
          "yaxis": {
           "automargin": true,
           "gridcolor": "white",
           "linecolor": "white",
           "ticks": "",
           "title": {
            "standoff": 15
           },
           "zerolinecolor": "white",
           "zerolinewidth": 2
          }
         }
        },
        "width": 1000
       }
      },
      "text/html": [
       "<div>                            <div id=\"b81c3dd2-74a9-4635-a638-2c147fa9cebd\" class=\"plotly-graph-div\" style=\"height:1000px; width:1000px;\"></div>            <script type=\"text/javascript\">                require([\"plotly\"], function(Plotly) {                    window.PLOTLYENV=window.PLOTLYENV || {};                                    if (document.getElementById(\"b81c3dd2-74a9-4635-a638-2c147fa9cebd\")) {                    Plotly.newPlot(                        \"b81c3dd2-74a9-4635-a638-2c147fa9cebd\",                        [{\"branchvalues\": \"total\", \"domain\": {\"x\": [0.0, 1.0], \"y\": [0.0, 1.0]}, \"hovertemplate\": \"labels=%{label}<br>count=%{value}<br>parent=%{parent}<br>id=%{id}<extra></extra>\", \"ids\": [\"My Network/Business Analyst/AFP Audit Financial Partners\", \"My Network/Frontend Developer/Altran\", \"My Network/Data Analyst/Amazon\", \"My Network/Data analyst/Antai Venture Builder\", \"My Network/Account Manager/Arval -  BNP Paribas Group\", \"My Network/Audit Associate/BDO Ireland\", \"My Network/Junior Auditor/BDO Spain\", \"My Network/Business Analyst/BIP\", \"My Network/Data Analyst/BMIND\", \"My Network/Data Analyst/Banco Sabadell\", \"My Network/Principal/Blackrock College\", \"My Network/Data Analyst/COFARES\", \"My Network/Gestor comercial/CaixaBank\", \"My Network/Senior Data Analyst/Cargamos\", \"My Network/Business Analyst/Cassidy Travel\", \"My Network/Junior Developer/Chessable Limited\", \"My Network/Data Analyst/ClearPeaks\", \"My Network/Data Analyst/Code Academy Berlin\", \"My Network/Frontend Developer/Codeoscopic\", \"My Network/Estudiante en pr\\u00e1cticas/CompsaOnline\", \"My Network/Associate Consultant/Conexus \", \"My Network/Socio inversor/Cuidkers\", \"My Network/UX/UI Designer/DLO Corp\", \"My Network/Audit Junior/Deloitte\", \"My Network/Account Development Representative/DocuSign\", \"My Network/Data Analyst/Electronic Arts (EA)\", \"My Network/Business Analyst/Enveseur\", \"My Network/Senior Data Analyst/FCM Lab Barcelona\", \"My Network/Business Analyst/FloraQueen\", \"My Network/Data Analyst/Freelance\", \"My Network/UX/UI Designer/Freelance\", \"My Network/Analista de datos/GIS4tech\", \"My Network/Data Analyst/Gartner\", \"My Network/Data Analyst/Glovo\", \"My Network/Finance Assistant/Grupo Casa Viva\", \"My Network/UX/UI Designer/HiKlub\", \"My Network/Analyst/Hines\", \"My Network/Data analyst/InfoDirect 2003 \", \"My Network/Co-Founder/Ironhack\", \"My Network/Estudiante en pr\\u00e1cticas/Jrsystems\", \"My Network/Deal Advisory - Transaction Services Associate/KPMG\", \"My Network/Intern/KPMG\", \"My Network/Deal Advisory - Transaction Services Associate/KPMG Ireland\", \"My Network/Data Analyst/KPMG Managed Solutions\", \"My Network/Co-Founder/Kalcetin.es\", \"My Network/UX/UI Designer/Kognia Sports Intelligence\", \"My Network/UX/UI Designer/Leadtech Group\", \"My Network/Account Manager/Leyton\", \"My Network/Business Intelligence Analyst/Logitravel Group\", \"My Network/Business Intelligence Analyst/Louis Vuitton\", \"My Network/Account Development Representative/MongoDB\", \"My Network/Software Developer/Opentrends\", \"My Network/Business Intelligence Analyst/Platanomel\\u00f3n\", \"My Network/Finance Assistant/Plytix.com\", \"My Network/Frontend Developer/Pride Places\", \"My Network/Analista de datos/Profesional Independiente\", \"My Network/Audit Associate/PwC Espa\\u00f1a\", \"My Network/Audit Junior/PwC Espa\\u00f1a\", \"My Network/Developer/Quantion\", \"My Network/Frontend Developer/Quipu\", \"My Network/UX/UI Designer/Relief Applications\", \"My Network/Junior Auditor/SPASA AUDITORIA SLP\", \"My Network/Data Analyst/Stuart\", \"My Network/Junior Developer/TangramBPM\", \"My Network/Intern/The Conservative Party\", \"My Network/Developer/ThoughtWorks\", \"My Network/Data Analyst/UPC School (Universitat Polit\\u00e8cnica de Catalunya)\", \"My Network/Socio inversor/United Gamers\", \"My Network/Associate Consultant/Version 1\", \"My Network/Analyst/Vistaprint\", \"My Network/Principal/Willow Park Senior School\", \"My Network/Data Analyst/Wix.com\", \"My Network/UX/UI Designer/haddock\", \"My Network/Data Analyst/i-surance AG\", \"My Network/Software Developer/isolutions AG\", \"My Network/Account Development Representative\", \"My Network/Account Manager\", \"My Network/Analista de datos\", \"My Network/Analyst\", \"My Network/Associate Consultant\", \"My Network/Audit Associate\", \"My Network/Audit Junior\", \"My Network/Business Analyst\", \"My Network/Business Intelligence Analyst\", \"My Network/Co-Founder\", \"My Network/Data Analyst\", \"My Network/Data analyst\", \"My Network/Deal Advisory - Transaction Services Associate\", \"My Network/Developer\", \"My Network/Estudiante en pr\\u00e1cticas\", \"My Network/Finance Assistant\", \"My Network/Frontend Developer\", \"My Network/Gestor comercial\", \"My Network/Intern\", \"My Network/Junior Auditor\", \"My Network/Junior Developer\", \"My Network/Principal\", \"My Network/Senior Data Analyst\", \"My Network/Socio inversor\", \"My Network/Software Developer\", \"My Network/UX/UI Designer\", \"My Network\"], \"labels\": [\"AFP Audit Financial Partners\", \"Altran\", \"Amazon\", \"Antai Venture Builder\", \"Arval -  BNP Paribas Group\", \"BDO Ireland\", \"BDO Spain\", \"BIP\", \"BMIND\", \"Banco Sabadell\", \"Blackrock College\", \"COFARES\", \"CaixaBank\", \"Cargamos\", \"Cassidy Travel\", \"Chessable Limited\", \"ClearPeaks\", \"Code Academy Berlin\", \"Codeoscopic\", \"CompsaOnline\", \"Conexus \", \"Cuidkers\", \"DLO Corp\", \"Deloitte\", \"DocuSign\", \"Electronic Arts (EA)\", \"Enveseur\", \"FCM Lab Barcelona\", \"FloraQueen\", \"Freelance\", \"Freelance\", \"GIS4tech\", \"Gartner\", \"Glovo\", \"Grupo Casa Viva\", \"HiKlub\", \"Hines\", \"InfoDirect 2003 \", \"Ironhack\", \"Jrsystems\", \"KPMG\", \"KPMG\", \"KPMG Ireland\", \"KPMG Managed Solutions\", \"Kalcetin.es\", \"Kognia Sports Intelligence\", \"Leadtech Group\", \"Leyton\", \"Logitravel Group\", \"Louis Vuitton\", \"MongoDB\", \"Opentrends\", \"Platanomel\\u00f3n\", \"Plytix.com\", \"Pride Places\", \"Profesional Independiente\", \"PwC Espa\\u00f1a\", \"PwC Espa\\u00f1a\", \"Quantion\", \"Quipu\", \"Relief Applications\", \"SPASA AUDITORIA SLP\", \"Stuart\", \"TangramBPM\", \"The Conservative Party\", \"ThoughtWorks\", \"UPC School (Universitat Polit\\u00e8cnica de Catalunya)\", \"United Gamers\", \"Version 1\", \"Vistaprint\", \"Willow Park Senior School\", \"Wix.com\", \"haddock\", \"i-surance AG\", \"isolutions AG\", \"Account Development Representative\", \"Account Manager\", \"Analista de datos\", \"Analyst\", \"Associate Consultant\", \"Audit Associate\", \"Audit Junior\", \"Business Analyst\", \"Business Intelligence Analyst\", \"Co-Founder\", \"Data Analyst\", \"Data analyst\", \"Deal Advisory - Transaction Services Associate\", \"Developer\", \"Estudiante en pr\\u00e1cticas\", \"Finance Assistant\", \"Frontend Developer\", \"Gestor comercial\", \"Intern\", \"Junior Auditor\", \"Junior Developer\", \"Principal\", \"Senior Data Analyst\", \"Socio inversor\", \"Software Developer\", \"UX/UI Designer\", \"My Network\"], \"name\": \"\", \"parents\": [\"My Network/Business Analyst\", \"My Network/Frontend Developer\", \"My Network/Data Analyst\", \"My Network/Data analyst\", \"My Network/Account Manager\", \"My Network/Audit Associate\", \"My Network/Junior Auditor\", \"My Network/Business Analyst\", \"My Network/Data Analyst\", \"My Network/Data Analyst\", \"My Network/Principal\", \"My Network/Data Analyst\", \"My Network/Gestor comercial\", \"My Network/Senior Data Analyst\", \"My Network/Business Analyst\", \"My Network/Junior Developer\", \"My Network/Data Analyst\", \"My Network/Data Analyst\", \"My Network/Frontend Developer\", \"My Network/Estudiante en pr\\u00e1cticas\", \"My Network/Associate Consultant\", \"My Network/Socio inversor\", \"My Network/UX/UI Designer\", \"My Network/Audit Junior\", \"My Network/Account Development Representative\", \"My Network/Data Analyst\", \"My Network/Business Analyst\", \"My Network/Senior Data Analyst\", \"My Network/Business Analyst\", \"My Network/Data Analyst\", \"My Network/UX/UI Designer\", \"My Network/Analista de datos\", \"My Network/Data Analyst\", \"My Network/Data Analyst\", \"My Network/Finance Assistant\", \"My Network/UX/UI Designer\", \"My Network/Analyst\", \"My Network/Data analyst\", \"My Network/Co-Founder\", \"My Network/Estudiante en pr\\u00e1cticas\", \"My Network/Deal Advisory - Transaction Services Associate\", \"My Network/Intern\", \"My Network/Deal Advisory - Transaction Services Associate\", \"My Network/Data Analyst\", \"My Network/Co-Founder\", \"My Network/UX/UI Designer\", \"My Network/UX/UI Designer\", \"My Network/Account Manager\", \"My Network/Business Intelligence Analyst\", \"My Network/Business Intelligence Analyst\", \"My Network/Account Development Representative\", \"My Network/Software Developer\", \"My Network/Business Intelligence Analyst\", \"My Network/Finance Assistant\", \"My Network/Frontend Developer\", \"My Network/Analista de datos\", \"My Network/Audit Associate\", \"My Network/Audit Junior\", \"My Network/Developer\", \"My Network/Frontend Developer\", \"My Network/UX/UI Designer\", \"My Network/Junior Auditor\", \"My Network/Data Analyst\", \"My Network/Junior Developer\", \"My Network/Intern\", \"My Network/Developer\", \"My Network/Data Analyst\", \"My Network/Socio inversor\", \"My Network/Associate Consultant\", \"My Network/Analyst\", \"My Network/Principal\", \"My Network/Data Analyst\", \"My Network/UX/UI Designer\", \"My Network/Data Analyst\", \"My Network/Software Developer\", \"My Network\", \"My Network\", \"My Network\", \"My Network\", \"My Network\", \"My Network\", \"My Network\", \"My Network\", \"My Network\", \"My Network\", \"My Network\", \"My Network\", \"My Network\", \"My Network\", \"My Network\", \"My Network\", \"My Network\", \"My Network\", \"My Network\", \"My Network\", \"My Network\", \"My Network\", \"My Network\", \"My Network\", \"My Network\", \"My Network\", \"\"], \"type\": \"treemap\", \"values\": [1, 1, 1, 1, 1, 1, 1, 1, 1, 1, 1, 1, 2, 1, 1, 1, 1, 1, 1, 1, 1, 1, 1, 2, 1, 1, 1, 1, 1, 1, 1, 1, 1, 1, 1, 1, 1, 1, 1, 1, 1, 1, 1, 1, 1, 1, 1, 1, 1, 1, 1, 1, 1, 1, 1, 1, 2, 2, 1, 1, 1, 1, 1, 1, 1, 1, 1, 1, 1, 1, 1, 1, 1, 1, 1, 2, 2, 2, 2, 2, 3, 4, 5, 3, 2, 15, 2, 2, 2, 2, 2, 4, 2, 2, 2, 2, 2, 2, 2, 2, 7, 79]}],                        {\"height\": 1000, \"legend\": {\"tracegroupgap\": 0}, \"margin\": {\"t\": 60}, \"template\": {\"data\": {\"bar\": [{\"error_x\": {\"color\": \"#2a3f5f\"}, \"error_y\": {\"color\": \"#2a3f5f\"}, \"marker\": {\"line\": {\"color\": \"#E5ECF6\", \"width\": 0.5}}, \"type\": \"bar\"}], \"barpolar\": [{\"marker\": {\"line\": {\"color\": \"#E5ECF6\", \"width\": 0.5}}, \"type\": \"barpolar\"}], \"carpet\": [{\"aaxis\": {\"endlinecolor\": \"#2a3f5f\", \"gridcolor\": \"white\", \"linecolor\": \"white\", \"minorgridcolor\": \"white\", \"startlinecolor\": \"#2a3f5f\"}, \"baxis\": {\"endlinecolor\": \"#2a3f5f\", \"gridcolor\": \"white\", \"linecolor\": \"white\", \"minorgridcolor\": \"white\", \"startlinecolor\": \"#2a3f5f\"}, \"type\": \"carpet\"}], \"choropleth\": [{\"colorbar\": {\"outlinewidth\": 0, \"ticks\": \"\"}, \"type\": \"choropleth\"}], \"contour\": [{\"colorbar\": {\"outlinewidth\": 0, \"ticks\": \"\"}, \"colorscale\": [[0.0, \"#0d0887\"], [0.1111111111111111, \"#46039f\"], [0.2222222222222222, \"#7201a8\"], [0.3333333333333333, \"#9c179e\"], [0.4444444444444444, \"#bd3786\"], [0.5555555555555556, \"#d8576b\"], [0.6666666666666666, \"#ed7953\"], [0.7777777777777778, \"#fb9f3a\"], [0.8888888888888888, \"#fdca26\"], [1.0, \"#f0f921\"]], \"type\": \"contour\"}], \"contourcarpet\": [{\"colorbar\": {\"outlinewidth\": 0, \"ticks\": \"\"}, \"type\": \"contourcarpet\"}], \"heatmap\": [{\"colorbar\": {\"outlinewidth\": 0, \"ticks\": \"\"}, \"colorscale\": [[0.0, \"#0d0887\"], [0.1111111111111111, \"#46039f\"], [0.2222222222222222, \"#7201a8\"], [0.3333333333333333, \"#9c179e\"], [0.4444444444444444, \"#bd3786\"], [0.5555555555555556, \"#d8576b\"], [0.6666666666666666, \"#ed7953\"], [0.7777777777777778, \"#fb9f3a\"], [0.8888888888888888, \"#fdca26\"], [1.0, \"#f0f921\"]], \"type\": \"heatmap\"}], \"heatmapgl\": [{\"colorbar\": {\"outlinewidth\": 0, \"ticks\": \"\"}, \"colorscale\": [[0.0, \"#0d0887\"], [0.1111111111111111, \"#46039f\"], [0.2222222222222222, \"#7201a8\"], [0.3333333333333333, \"#9c179e\"], [0.4444444444444444, \"#bd3786\"], [0.5555555555555556, \"#d8576b\"], [0.6666666666666666, \"#ed7953\"], [0.7777777777777778, \"#fb9f3a\"], [0.8888888888888888, \"#fdca26\"], [1.0, \"#f0f921\"]], \"type\": \"heatmapgl\"}], \"histogram\": [{\"marker\": {\"colorbar\": {\"outlinewidth\": 0, \"ticks\": \"\"}}, \"type\": \"histogram\"}], \"histogram2d\": [{\"colorbar\": {\"outlinewidth\": 0, \"ticks\": \"\"}, \"colorscale\": [[0.0, \"#0d0887\"], [0.1111111111111111, \"#46039f\"], [0.2222222222222222, \"#7201a8\"], [0.3333333333333333, \"#9c179e\"], [0.4444444444444444, \"#bd3786\"], [0.5555555555555556, \"#d8576b\"], [0.6666666666666666, \"#ed7953\"], [0.7777777777777778, \"#fb9f3a\"], [0.8888888888888888, \"#fdca26\"], [1.0, \"#f0f921\"]], \"type\": \"histogram2d\"}], \"histogram2dcontour\": [{\"colorbar\": {\"outlinewidth\": 0, \"ticks\": \"\"}, \"colorscale\": [[0.0, \"#0d0887\"], [0.1111111111111111, \"#46039f\"], [0.2222222222222222, \"#7201a8\"], [0.3333333333333333, \"#9c179e\"], [0.4444444444444444, \"#bd3786\"], [0.5555555555555556, \"#d8576b\"], [0.6666666666666666, \"#ed7953\"], [0.7777777777777778, \"#fb9f3a\"], [0.8888888888888888, \"#fdca26\"], [1.0, \"#f0f921\"]], \"type\": \"histogram2dcontour\"}], \"mesh3d\": [{\"colorbar\": {\"outlinewidth\": 0, \"ticks\": \"\"}, \"type\": \"mesh3d\"}], \"parcoords\": [{\"line\": {\"colorbar\": {\"outlinewidth\": 0, \"ticks\": \"\"}}, \"type\": \"parcoords\"}], \"pie\": [{\"automargin\": true, \"type\": \"pie\"}], \"scatter\": [{\"marker\": {\"colorbar\": {\"outlinewidth\": 0, \"ticks\": \"\"}}, \"type\": \"scatter\"}], \"scatter3d\": [{\"line\": {\"colorbar\": {\"outlinewidth\": 0, \"ticks\": \"\"}}, \"marker\": {\"colorbar\": {\"outlinewidth\": 0, \"ticks\": \"\"}}, \"type\": \"scatter3d\"}], \"scattercarpet\": [{\"marker\": {\"colorbar\": {\"outlinewidth\": 0, \"ticks\": \"\"}}, \"type\": \"scattercarpet\"}], \"scattergeo\": [{\"marker\": {\"colorbar\": {\"outlinewidth\": 0, \"ticks\": \"\"}}, \"type\": \"scattergeo\"}], \"scattergl\": [{\"marker\": {\"colorbar\": {\"outlinewidth\": 0, \"ticks\": \"\"}}, \"type\": \"scattergl\"}], \"scattermapbox\": [{\"marker\": {\"colorbar\": {\"outlinewidth\": 0, \"ticks\": \"\"}}, \"type\": \"scattermapbox\"}], \"scatterpolar\": [{\"marker\": {\"colorbar\": {\"outlinewidth\": 0, \"ticks\": \"\"}}, \"type\": \"scatterpolar\"}], \"scatterpolargl\": [{\"marker\": {\"colorbar\": {\"outlinewidth\": 0, \"ticks\": \"\"}}, \"type\": \"scatterpolargl\"}], \"scatterternary\": [{\"marker\": {\"colorbar\": {\"outlinewidth\": 0, \"ticks\": \"\"}}, \"type\": \"scatterternary\"}], \"surface\": [{\"colorbar\": {\"outlinewidth\": 0, \"ticks\": \"\"}, \"colorscale\": [[0.0, \"#0d0887\"], [0.1111111111111111, \"#46039f\"], [0.2222222222222222, \"#7201a8\"], [0.3333333333333333, \"#9c179e\"], [0.4444444444444444, \"#bd3786\"], [0.5555555555555556, \"#d8576b\"], [0.6666666666666666, \"#ed7953\"], [0.7777777777777778, \"#fb9f3a\"], [0.8888888888888888, \"#fdca26\"], [1.0, \"#f0f921\"]], \"type\": \"surface\"}], \"table\": [{\"cells\": {\"fill\": {\"color\": \"#EBF0F8\"}, \"line\": {\"color\": \"white\"}}, \"header\": {\"fill\": {\"color\": \"#C8D4E3\"}, \"line\": {\"color\": \"white\"}}, \"type\": \"table\"}]}, \"layout\": {\"annotationdefaults\": {\"arrowcolor\": \"#2a3f5f\", \"arrowhead\": 0, \"arrowwidth\": 1}, \"autotypenumbers\": \"strict\", \"coloraxis\": {\"colorbar\": {\"outlinewidth\": 0, \"ticks\": \"\"}}, \"colorscale\": {\"diverging\": [[0, \"#8e0152\"], [0.1, \"#c51b7d\"], [0.2, \"#de77ae\"], [0.3, \"#f1b6da\"], [0.4, \"#fde0ef\"], [0.5, \"#f7f7f7\"], [0.6, \"#e6f5d0\"], [0.7, \"#b8e186\"], [0.8, \"#7fbc41\"], [0.9, \"#4d9221\"], [1, \"#276419\"]], \"sequential\": [[0.0, \"#0d0887\"], [0.1111111111111111, \"#46039f\"], [0.2222222222222222, \"#7201a8\"], [0.3333333333333333, \"#9c179e\"], [0.4444444444444444, \"#bd3786\"], [0.5555555555555556, \"#d8576b\"], [0.6666666666666666, \"#ed7953\"], [0.7777777777777778, \"#fb9f3a\"], [0.8888888888888888, \"#fdca26\"], [1.0, \"#f0f921\"]], \"sequentialminus\": [[0.0, \"#0d0887\"], [0.1111111111111111, \"#46039f\"], [0.2222222222222222, \"#7201a8\"], [0.3333333333333333, \"#9c179e\"], [0.4444444444444444, \"#bd3786\"], [0.5555555555555556, \"#d8576b\"], [0.6666666666666666, \"#ed7953\"], [0.7777777777777778, \"#fb9f3a\"], [0.8888888888888888, \"#fdca26\"], [1.0, \"#f0f921\"]]}, \"colorway\": [\"#636efa\", \"#EF553B\", \"#00cc96\", \"#ab63fa\", \"#FFA15A\", \"#19d3f3\", \"#FF6692\", \"#B6E880\", \"#FF97FF\", \"#FECB52\"], \"font\": {\"color\": \"#2a3f5f\"}, \"geo\": {\"bgcolor\": \"white\", \"lakecolor\": \"white\", \"landcolor\": \"#E5ECF6\", \"showlakes\": true, \"showland\": true, \"subunitcolor\": \"white\"}, \"hoverlabel\": {\"align\": \"left\"}, \"hovermode\": \"closest\", \"mapbox\": {\"style\": \"light\"}, \"paper_bgcolor\": \"white\", \"plot_bgcolor\": \"#E5ECF6\", \"polar\": {\"angularaxis\": {\"gridcolor\": \"white\", \"linecolor\": \"white\", \"ticks\": \"\"}, \"bgcolor\": \"#E5ECF6\", \"radialaxis\": {\"gridcolor\": \"white\", \"linecolor\": \"white\", \"ticks\": \"\"}}, \"scene\": {\"xaxis\": {\"backgroundcolor\": \"#E5ECF6\", \"gridcolor\": \"white\", \"gridwidth\": 2, \"linecolor\": \"white\", \"showbackground\": true, \"ticks\": \"\", \"zerolinecolor\": \"white\"}, \"yaxis\": {\"backgroundcolor\": \"#E5ECF6\", \"gridcolor\": \"white\", \"gridwidth\": 2, \"linecolor\": \"white\", \"showbackground\": true, \"ticks\": \"\", \"zerolinecolor\": \"white\"}, \"zaxis\": {\"backgroundcolor\": \"#E5ECF6\", \"gridcolor\": \"white\", \"gridwidth\": 2, \"linecolor\": \"white\", \"showbackground\": true, \"ticks\": \"\", \"zerolinecolor\": \"white\"}}, \"shapedefaults\": {\"line\": {\"color\": \"#2a3f5f\"}}, \"ternary\": {\"aaxis\": {\"gridcolor\": \"white\", \"linecolor\": \"white\", \"ticks\": \"\"}, \"baxis\": {\"gridcolor\": \"white\", \"linecolor\": \"white\", \"ticks\": \"\"}, \"bgcolor\": \"#E5ECF6\", \"caxis\": {\"gridcolor\": \"white\", \"linecolor\": \"white\", \"ticks\": \"\"}}, \"title\": {\"x\": 0.05}, \"xaxis\": {\"automargin\": true, \"gridcolor\": \"white\", \"linecolor\": \"white\", \"ticks\": \"\", \"title\": {\"standoff\": 15}, \"zerolinecolor\": \"white\", \"zerolinewidth\": 2}, \"yaxis\": {\"automargin\": true, \"gridcolor\": \"white\", \"linecolor\": \"white\", \"ticks\": \"\", \"title\": {\"standoff\": 15}, \"zerolinecolor\": \"white\", \"zerolinewidth\": 2}}}, \"width\": 1000},                        {\"responsive\": true}                    ).then(function(){\n",
       "                            \n",
       "var gd = document.getElementById('b81c3dd2-74a9-4635-a638-2c147fa9cebd');\n",
       "var x = new MutationObserver(function (mutations, observer) {{\n",
       "        var display = window.getComputedStyle(gd).display;\n",
       "        if (!display || display === 'none') {{\n",
       "            console.log([gd, 'removed!']);\n",
       "            Plotly.purge(gd);\n",
       "            observer.disconnect();\n",
       "        }}\n",
       "}});\n",
       "\n",
       "// Listen for the removal of the full notebook cells\n",
       "var notebookContainer = gd.closest('#notebook-container');\n",
       "if (notebookContainer) {{\n",
       "    x.observe(notebookContainer, {childList: true});\n",
       "}}\n",
       "\n",
       "// Listen for the clearing of the current output cell\n",
       "var outputEl = gd.closest('.output');\n",
       "if (outputEl) {{\n",
       "    x.observe(outputEl, {childList: true});\n",
       "}}\n",
       "\n",
       "                        })                };                });            </script>        </div>"
      ]
     },
     "metadata": {},
     "output_type": "display_data"
    }
   ],
   "source": [
    "company_tree_map = px.treemap(df, path=['My Network', 'Position', 'Company'], width=1000, height=1000)\n",
    "company_tree_map.show()"
   ]
  },
  {
   "cell_type": "code",
   "execution_count": null,
   "id": "military-underground",
   "metadata": {
    "ExecuteTime": {
     "end_time": "2021-03-16T09:47:00.488549Z",
     "start_time": "2021-03-16T09:47:00.473249Z"
    },
    "code_folding": []
   },
   "outputs": [],
   "source": []
  },
  {
   "cell_type": "code",
   "execution_count": 36,
   "id": "powerful-monday",
   "metadata": {
    "ExecuteTime": {
     "end_time": "2021-03-16T09:43:03.844827Z",
     "start_time": "2021-03-16T09:43:03.820610Z"
    }
   },
   "outputs": [
    {
     "data": {
      "text/html": [
       "<div>\n",
       "<style scoped>\n",
       "    .dataframe tbody tr th:only-of-type {\n",
       "        vertical-align: middle;\n",
       "    }\n",
       "\n",
       "    .dataframe tbody tr th {\n",
       "        vertical-align: top;\n",
       "    }\n",
       "\n",
       "    .dataframe thead th {\n",
       "        text-align: right;\n",
       "    }\n",
       "</style>\n",
       "<table border=\"1\" class=\"dataframe\">\n",
       "  <thead>\n",
       "    <tr style=\"text-align: right;\">\n",
       "      <th></th>\n",
       "      <th>First Name</th>\n",
       "      <th>Last Name</th>\n",
       "      <th>Company</th>\n",
       "      <th>Position</th>\n",
       "      <th>Connected On</th>\n",
       "      <th>My Network</th>\n",
       "    </tr>\n",
       "  </thead>\n",
       "  <tbody>\n",
       "    <tr>\n",
       "      <th>0</th>\n",
       "      <td>Alvaro</td>\n",
       "      <td>Gonzalez San Pedro</td>\n",
       "      <td>Ironhack</td>\n",
       "      <td>General Manager, Madrid</td>\n",
       "      <td>16 Mar 2021</td>\n",
       "      <td>My Network</td>\n",
       "    </tr>\n",
       "    <tr>\n",
       "      <th>1</th>\n",
       "      <td>Mario</td>\n",
       "      <td>Espada</td>\n",
       "      <td>TangramBPM</td>\n",
       "      <td>Junior Developer</td>\n",
       "      <td>16 Mar 2021</td>\n",
       "      <td>My Network</td>\n",
       "    </tr>\n",
       "    <tr>\n",
       "      <th>2</th>\n",
       "      <td>Elena</td>\n",
       "      <td>Piaggio</td>\n",
       "      <td>Barcelona Activa</td>\n",
       "      <td>Junior Backend Developer</td>\n",
       "      <td>16 Mar 2021</td>\n",
       "      <td>My Network</td>\n",
       "    </tr>\n",
       "    <tr>\n",
       "      <th>3</th>\n",
       "      <td>Harry</td>\n",
       "      <td>Felton</td>\n",
       "      <td>Conexus</td>\n",
       "      <td>Associate Consultant</td>\n",
       "      <td>16 Mar 2021</td>\n",
       "      <td>My Network</td>\n",
       "    </tr>\n",
       "    <tr>\n",
       "      <th>4</th>\n",
       "      <td>Borja</td>\n",
       "      <td>Casilda Sánchez</td>\n",
       "      <td>Johnson &amp; Johnson</td>\n",
       "      <td>Pricing Analyst</td>\n",
       "      <td>16 Mar 2021</td>\n",
       "      <td>My Network</td>\n",
       "    </tr>\n",
       "    <tr>\n",
       "      <th>...</th>\n",
       "      <td>...</td>\n",
       "      <td>...</td>\n",
       "      <td>...</td>\n",
       "      <td>...</td>\n",
       "      <td>...</td>\n",
       "      <td>...</td>\n",
       "    </tr>\n",
       "    <tr>\n",
       "      <th>403</th>\n",
       "      <td>Iñigo</td>\n",
       "      <td>Garay Otero</td>\n",
       "      <td>KPMG</td>\n",
       "      <td>Intern</td>\n",
       "      <td>08 Jan 2021</td>\n",
       "      <td>My Network</td>\n",
       "    </tr>\n",
       "    <tr>\n",
       "      <th>404</th>\n",
       "      <td>Nuria</td>\n",
       "      <td>Rius Camps</td>\n",
       "      <td>Freelance</td>\n",
       "      <td>Data Analyst</td>\n",
       "      <td>08 Jan 2021</td>\n",
       "      <td>My Network</td>\n",
       "    </tr>\n",
       "    <tr>\n",
       "      <th>405</th>\n",
       "      <td>Raimon</td>\n",
       "      <td>Sanchez</td>\n",
       "      <td>Omega CRM</td>\n",
       "      <td>Customer Success Manager Higher Education &amp; No...</td>\n",
       "      <td>21 Oct 2020</td>\n",
       "      <td>My Network</td>\n",
       "    </tr>\n",
       "    <tr>\n",
       "      <th>406</th>\n",
       "      <td>Núria</td>\n",
       "      <td>Pujol</td>\n",
       "      <td>AmoBarcelona</td>\n",
       "      <td>Fundadora de AMOBARCELONA Turismo y Cultura</td>\n",
       "      <td>19 Oct 2020</td>\n",
       "      <td>My Network</td>\n",
       "    </tr>\n",
       "    <tr>\n",
       "      <th>407</th>\n",
       "      <td>Teresa</td>\n",
       "      <td>Goñi Beltran de Garizurieta</td>\n",
       "      <td>Ferrer &amp; Goñi Abogados</td>\n",
       "      <td>Socio</td>\n",
       "      <td>19 Oct 2020</td>\n",
       "      <td>My Network</td>\n",
       "    </tr>\n",
       "  </tbody>\n",
       "</table>\n",
       "<p>402 rows × 6 columns</p>\n",
       "</div>"
      ],
      "text/plain": [
       "    First Name                    Last Name                 Company  \\\n",
       "0       Alvaro           Gonzalez San Pedro                Ironhack   \n",
       "1        Mario                       Espada              TangramBPM   \n",
       "2        Elena                      Piaggio        Barcelona Activa   \n",
       "3        Harry                       Felton                Conexus    \n",
       "4        Borja              Casilda Sánchez       Johnson & Johnson   \n",
       "..         ...                          ...                     ...   \n",
       "403      Iñigo                  Garay Otero                    KPMG   \n",
       "404      Nuria                   Rius Camps               Freelance   \n",
       "405     Raimon                      Sanchez               Omega CRM   \n",
       "406      Núria                        Pujol           AmoBarcelona    \n",
       "407     Teresa  Goñi Beltran de Garizurieta  Ferrer & Goñi Abogados   \n",
       "\n",
       "                                              Position Connected On  \\\n",
       "0                              General Manager, Madrid  16 Mar 2021   \n",
       "1                                     Junior Developer  16 Mar 2021   \n",
       "2                             Junior Backend Developer  16 Mar 2021   \n",
       "3                                 Associate Consultant  16 Mar 2021   \n",
       "4                                      Pricing Analyst  16 Mar 2021   \n",
       "..                                                 ...          ...   \n",
       "403                                             Intern  08 Jan 2021   \n",
       "404                                       Data Analyst  08 Jan 2021   \n",
       "405  Customer Success Manager Higher Education & No...  21 Oct 2020   \n",
       "406        Fundadora de AMOBARCELONA Turismo y Cultura  19 Oct 2020   \n",
       "407                                              Socio  19 Oct 2020   \n",
       "\n",
       "     My Network  \n",
       "0    My Network  \n",
       "1    My Network  \n",
       "2    My Network  \n",
       "3    My Network  \n",
       "4    My Network  \n",
       "..          ...  \n",
       "403  My Network  \n",
       "404  My Network  \n",
       "405  My Network  \n",
       "406  My Network  \n",
       "407  My Network  \n",
       "\n",
       "[402 rows x 6 columns]"
      ]
     },
     "execution_count": 36,
     "metadata": {},
     "output_type": "execute_result"
    }
   ],
   "source": [
    "df\n"
   ]
  },
  {
   "cell_type": "code",
   "execution_count": null,
   "id": "faced-influence",
   "metadata": {
    "ExecuteTime": {
     "end_time": "2021-03-16T09:27:33.071267Z",
     "start_time": "2021-03-16T09:27:33.057251Z"
    }
   },
   "outputs": [],
   "source": []
  },
  {
   "cell_type": "code",
   "execution_count": null,
   "id": "infinite-anniversary",
   "metadata": {},
   "outputs": [],
   "source": []
  },
  {
   "cell_type": "code",
   "execution_count": null,
   "id": "incorrect-latin",
   "metadata": {
    "ExecuteTime": {
     "end_time": "2021-03-16T09:26:46.328650Z",
     "start_time": "2021-03-16T09:26:46.232520Z"
    }
   },
   "outputs": [],
   "source": []
  },
  {
   "cell_type": "code",
   "execution_count": null,
   "id": "coated-worthy",
   "metadata": {},
   "outputs": [],
   "source": []
  }
 ],
 "metadata": {
  "kernelspec": {
   "display_name": "tensor",
   "language": "python",
   "name": "tensor"
  },
  "language_info": {
   "codemirror_mode": {
    "name": "ipython",
    "version": 3
   },
   "file_extension": ".py",
   "mimetype": "text/x-python",
   "name": "python",
   "nbconvert_exporter": "python",
   "pygments_lexer": "ipython3",
   "version": "3.8.2"
  },
  "toc": {
   "base_numbering": 1,
   "nav_menu": {},
   "number_sections": true,
   "sideBar": true,
   "skip_h1_title": false,
   "title_cell": "Table of Contents",
   "title_sidebar": "Contents",
   "toc_cell": false,
   "toc_position": {},
   "toc_section_display": true,
   "toc_window_display": false
  }
 },
 "nbformat": 4,
 "nbformat_minor": 5
}
